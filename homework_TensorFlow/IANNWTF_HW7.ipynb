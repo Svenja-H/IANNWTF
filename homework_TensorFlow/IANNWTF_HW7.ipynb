{
  "nbformat": 4,
  "nbformat_minor": 0,
  "metadata": {
    "colab": {
      "name": "Kopie von IANNWTF - HW7.ipynb",
      "provenance": []
    },
    "kernelspec": {
      "name": "python3",
      "display_name": "Python 3"
    },
    "accelerator": "GPU",
    "widgets": {
      "application/vnd.jupyter.widget-state+json": {
        "2186391a84c3441bb49216d0cda51fa9": {
          "model_module": "@jupyter-widgets/controls",
          "model_name": "HBoxModel",
          "state": {
            "_view_name": "HBoxView",
            "_dom_classes": [],
            "_model_name": "HBoxModel",
            "_view_module": "@jupyter-widgets/controls",
            "_model_module_version": "1.5.0",
            "_view_count": null,
            "_view_module_version": "1.5.0",
            "box_style": "",
            "layout": "IPY_MODEL_b752f31d5a544c7f9fb2c960c1f3c4d4",
            "_model_module": "@jupyter-widgets/controls",
            "children": [
              "IPY_MODEL_0c577fbdd8854689927a85acfef4a2fb",
              "IPY_MODEL_68e3f5bb071d480c8a570ef62645b6e5"
            ]
          }
        },
        "b752f31d5a544c7f9fb2c960c1f3c4d4": {
          "model_module": "@jupyter-widgets/base",
          "model_name": "LayoutModel",
          "state": {
            "_view_name": "LayoutView",
            "grid_template_rows": null,
            "right": null,
            "justify_content": null,
            "_view_module": "@jupyter-widgets/base",
            "overflow": null,
            "_model_module_version": "1.2.0",
            "_view_count": null,
            "flex_flow": null,
            "width": null,
            "min_width": null,
            "border": null,
            "align_items": null,
            "bottom": null,
            "_model_module": "@jupyter-widgets/base",
            "top": null,
            "grid_column": null,
            "overflow_y": null,
            "overflow_x": null,
            "grid_auto_flow": null,
            "grid_area": null,
            "grid_template_columns": null,
            "flex": null,
            "_model_name": "LayoutModel",
            "justify_items": null,
            "grid_row": null,
            "max_height": null,
            "align_content": null,
            "visibility": null,
            "align_self": null,
            "height": null,
            "min_height": null,
            "padding": null,
            "grid_auto_rows": null,
            "grid_gap": null,
            "max_width": null,
            "order": null,
            "_view_module_version": "1.2.0",
            "grid_template_areas": null,
            "object_position": null,
            "object_fit": null,
            "grid_auto_columns": null,
            "margin": null,
            "display": null,
            "left": null
          }
        },
        "0c577fbdd8854689927a85acfef4a2fb": {
          "model_module": "@jupyter-widgets/controls",
          "model_name": "FloatProgressModel",
          "state": {
            "_view_name": "ProgressView",
            "style": "IPY_MODEL_fe3b7c6f1b4b4d4f81a132fe3d9f655e",
            "_dom_classes": [],
            "description": "Dl Completed...: 100%",
            "_model_name": "FloatProgressModel",
            "bar_style": "success",
            "max": 1,
            "_view_module": "@jupyter-widgets/controls",
            "_model_module_version": "1.5.0",
            "value": 1,
            "_view_count": null,
            "_view_module_version": "1.5.0",
            "orientation": "horizontal",
            "min": 0,
            "description_tooltip": null,
            "_model_module": "@jupyter-widgets/controls",
            "layout": "IPY_MODEL_1ac6139c3c6f4368a977a5531e037967"
          }
        },
        "68e3f5bb071d480c8a570ef62645b6e5": {
          "model_module": "@jupyter-widgets/controls",
          "model_name": "HTMLModel",
          "state": {
            "_view_name": "HTMLView",
            "style": "IPY_MODEL_948a4ea50bd24e35acad531e7857a2e0",
            "_dom_classes": [],
            "description": "",
            "_model_name": "HTMLModel",
            "placeholder": "​",
            "_view_module": "@jupyter-widgets/controls",
            "_model_module_version": "1.5.0",
            "value": " 4/4 [00:02&lt;00:00,  1.79 url/s]",
            "_view_count": null,
            "_view_module_version": "1.5.0",
            "description_tooltip": null,
            "_model_module": "@jupyter-widgets/controls",
            "layout": "IPY_MODEL_7a77e8a42f1a42128ebe2b6eeab32010"
          }
        },
        "fe3b7c6f1b4b4d4f81a132fe3d9f655e": {
          "model_module": "@jupyter-widgets/controls",
          "model_name": "ProgressStyleModel",
          "state": {
            "_view_name": "StyleView",
            "_model_name": "ProgressStyleModel",
            "description_width": "initial",
            "_view_module": "@jupyter-widgets/base",
            "_model_module_version": "1.5.0",
            "_view_count": null,
            "_view_module_version": "1.2.0",
            "bar_color": null,
            "_model_module": "@jupyter-widgets/controls"
          }
        },
        "1ac6139c3c6f4368a977a5531e037967": {
          "model_module": "@jupyter-widgets/base",
          "model_name": "LayoutModel",
          "state": {
            "_view_name": "LayoutView",
            "grid_template_rows": null,
            "right": null,
            "justify_content": null,
            "_view_module": "@jupyter-widgets/base",
            "overflow": null,
            "_model_module_version": "1.2.0",
            "_view_count": null,
            "flex_flow": null,
            "width": null,
            "min_width": null,
            "border": null,
            "align_items": null,
            "bottom": null,
            "_model_module": "@jupyter-widgets/base",
            "top": null,
            "grid_column": null,
            "overflow_y": null,
            "overflow_x": null,
            "grid_auto_flow": null,
            "grid_area": null,
            "grid_template_columns": null,
            "flex": null,
            "_model_name": "LayoutModel",
            "justify_items": null,
            "grid_row": null,
            "max_height": null,
            "align_content": null,
            "visibility": null,
            "align_self": null,
            "height": null,
            "min_height": null,
            "padding": null,
            "grid_auto_rows": null,
            "grid_gap": null,
            "max_width": null,
            "order": null,
            "_view_module_version": "1.2.0",
            "grid_template_areas": null,
            "object_position": null,
            "object_fit": null,
            "grid_auto_columns": null,
            "margin": null,
            "display": null,
            "left": null
          }
        },
        "948a4ea50bd24e35acad531e7857a2e0": {
          "model_module": "@jupyter-widgets/controls",
          "model_name": "DescriptionStyleModel",
          "state": {
            "_view_name": "StyleView",
            "_model_name": "DescriptionStyleModel",
            "description_width": "",
            "_view_module": "@jupyter-widgets/base",
            "_model_module_version": "1.5.0",
            "_view_count": null,
            "_view_module_version": "1.2.0",
            "_model_module": "@jupyter-widgets/controls"
          }
        },
        "7a77e8a42f1a42128ebe2b6eeab32010": {
          "model_module": "@jupyter-widgets/base",
          "model_name": "LayoutModel",
          "state": {
            "_view_name": "LayoutView",
            "grid_template_rows": null,
            "right": null,
            "justify_content": null,
            "_view_module": "@jupyter-widgets/base",
            "overflow": null,
            "_model_module_version": "1.2.0",
            "_view_count": null,
            "flex_flow": null,
            "width": null,
            "min_width": null,
            "border": null,
            "align_items": null,
            "bottom": null,
            "_model_module": "@jupyter-widgets/base",
            "top": null,
            "grid_column": null,
            "overflow_y": null,
            "overflow_x": null,
            "grid_auto_flow": null,
            "grid_area": null,
            "grid_template_columns": null,
            "flex": null,
            "_model_name": "LayoutModel",
            "justify_items": null,
            "grid_row": null,
            "max_height": null,
            "align_content": null,
            "visibility": null,
            "align_self": null,
            "height": null,
            "min_height": null,
            "padding": null,
            "grid_auto_rows": null,
            "grid_gap": null,
            "max_width": null,
            "order": null,
            "_view_module_version": "1.2.0",
            "grid_template_areas": null,
            "object_position": null,
            "object_fit": null,
            "grid_auto_columns": null,
            "margin": null,
            "display": null,
            "left": null
          }
        },
        "c61f1cbf186f4de8a60ebb799f0e610a": {
          "model_module": "@jupyter-widgets/controls",
          "model_name": "HBoxModel",
          "state": {
            "_view_name": "HBoxView",
            "_dom_classes": [],
            "_model_name": "HBoxModel",
            "_view_module": "@jupyter-widgets/controls",
            "_model_module_version": "1.5.0",
            "_view_count": null,
            "_view_module_version": "1.5.0",
            "box_style": "",
            "layout": "IPY_MODEL_51967ec9dd6745d6bab1356d2c43928a",
            "_model_module": "@jupyter-widgets/controls",
            "children": [
              "IPY_MODEL_fae3fcba2c6a407797011be1e68b922c",
              "IPY_MODEL_8ee6fb4ded8440bfad1ef784bdc2e5bc"
            ]
          }
        },
        "51967ec9dd6745d6bab1356d2c43928a": {
          "model_module": "@jupyter-widgets/base",
          "model_name": "LayoutModel",
          "state": {
            "_view_name": "LayoutView",
            "grid_template_rows": null,
            "right": null,
            "justify_content": null,
            "_view_module": "@jupyter-widgets/base",
            "overflow": null,
            "_model_module_version": "1.2.0",
            "_view_count": null,
            "flex_flow": null,
            "width": null,
            "min_width": null,
            "border": null,
            "align_items": null,
            "bottom": null,
            "_model_module": "@jupyter-widgets/base",
            "top": null,
            "grid_column": null,
            "overflow_y": null,
            "overflow_x": null,
            "grid_auto_flow": null,
            "grid_area": null,
            "grid_template_columns": null,
            "flex": null,
            "_model_name": "LayoutModel",
            "justify_items": null,
            "grid_row": null,
            "max_height": null,
            "align_content": null,
            "visibility": null,
            "align_self": null,
            "height": null,
            "min_height": null,
            "padding": null,
            "grid_auto_rows": null,
            "grid_gap": null,
            "max_width": null,
            "order": null,
            "_view_module_version": "1.2.0",
            "grid_template_areas": null,
            "object_position": null,
            "object_fit": null,
            "grid_auto_columns": null,
            "margin": null,
            "display": null,
            "left": null
          }
        },
        "fae3fcba2c6a407797011be1e68b922c": {
          "model_module": "@jupyter-widgets/controls",
          "model_name": "FloatProgressModel",
          "state": {
            "_view_name": "ProgressView",
            "style": "IPY_MODEL_adfcd024332749ca8c4f64cd7b13bd82",
            "_dom_classes": [],
            "description": "Dl Size...: 100%",
            "_model_name": "FloatProgressModel",
            "bar_style": "success",
            "max": 1,
            "_view_module": "@jupyter-widgets/controls",
            "_model_module_version": "1.5.0",
            "value": 1,
            "_view_count": null,
            "_view_module_version": "1.5.0",
            "orientation": "horizontal",
            "min": 0,
            "description_tooltip": null,
            "_model_module": "@jupyter-widgets/controls",
            "layout": "IPY_MODEL_133a8ff0e97743b79634b8e139080086"
          }
        },
        "8ee6fb4ded8440bfad1ef784bdc2e5bc": {
          "model_module": "@jupyter-widgets/controls",
          "model_name": "HTMLModel",
          "state": {
            "_view_name": "HTMLView",
            "style": "IPY_MODEL_be02f01df44246f89bbd66a172916dd4",
            "_dom_classes": [],
            "description": "",
            "_model_name": "HTMLModel",
            "placeholder": "​",
            "_view_module": "@jupyter-widgets/controls",
            "_model_module_version": "1.5.0",
            "value": " 29/29 [00:02&lt;00:00, 13.21 MiB/s]",
            "_view_count": null,
            "_view_module_version": "1.5.0",
            "description_tooltip": null,
            "_model_module": "@jupyter-widgets/controls",
            "layout": "IPY_MODEL_37f77719972546c3bb0c3c631292cf62"
          }
        },
        "adfcd024332749ca8c4f64cd7b13bd82": {
          "model_module": "@jupyter-widgets/controls",
          "model_name": "ProgressStyleModel",
          "state": {
            "_view_name": "StyleView",
            "_model_name": "ProgressStyleModel",
            "description_width": "initial",
            "_view_module": "@jupyter-widgets/base",
            "_model_module_version": "1.5.0",
            "_view_count": null,
            "_view_module_version": "1.2.0",
            "bar_color": null,
            "_model_module": "@jupyter-widgets/controls"
          }
        },
        "133a8ff0e97743b79634b8e139080086": {
          "model_module": "@jupyter-widgets/base",
          "model_name": "LayoutModel",
          "state": {
            "_view_name": "LayoutView",
            "grid_template_rows": null,
            "right": null,
            "justify_content": null,
            "_view_module": "@jupyter-widgets/base",
            "overflow": null,
            "_model_module_version": "1.2.0",
            "_view_count": null,
            "flex_flow": null,
            "width": null,
            "min_width": null,
            "border": null,
            "align_items": null,
            "bottom": null,
            "_model_module": "@jupyter-widgets/base",
            "top": null,
            "grid_column": null,
            "overflow_y": null,
            "overflow_x": null,
            "grid_auto_flow": null,
            "grid_area": null,
            "grid_template_columns": null,
            "flex": null,
            "_model_name": "LayoutModel",
            "justify_items": null,
            "grid_row": null,
            "max_height": null,
            "align_content": null,
            "visibility": null,
            "align_self": null,
            "height": null,
            "min_height": null,
            "padding": null,
            "grid_auto_rows": null,
            "grid_gap": null,
            "max_width": null,
            "order": null,
            "_view_module_version": "1.2.0",
            "grid_template_areas": null,
            "object_position": null,
            "object_fit": null,
            "grid_auto_columns": null,
            "margin": null,
            "display": null,
            "left": null
          }
        },
        "be02f01df44246f89bbd66a172916dd4": {
          "model_module": "@jupyter-widgets/controls",
          "model_name": "DescriptionStyleModel",
          "state": {
            "_view_name": "StyleView",
            "_model_name": "DescriptionStyleModel",
            "description_width": "",
            "_view_module": "@jupyter-widgets/base",
            "_model_module_version": "1.5.0",
            "_view_count": null,
            "_view_module_version": "1.2.0",
            "_model_module": "@jupyter-widgets/controls"
          }
        },
        "37f77719972546c3bb0c3c631292cf62": {
          "model_module": "@jupyter-widgets/base",
          "model_name": "LayoutModel",
          "state": {
            "_view_name": "LayoutView",
            "grid_template_rows": null,
            "right": null,
            "justify_content": null,
            "_view_module": "@jupyter-widgets/base",
            "overflow": null,
            "_model_module_version": "1.2.0",
            "_view_count": null,
            "flex_flow": null,
            "width": null,
            "min_width": null,
            "border": null,
            "align_items": null,
            "bottom": null,
            "_model_module": "@jupyter-widgets/base",
            "top": null,
            "grid_column": null,
            "overflow_y": null,
            "overflow_x": null,
            "grid_auto_flow": null,
            "grid_area": null,
            "grid_template_columns": null,
            "flex": null,
            "_model_name": "LayoutModel",
            "justify_items": null,
            "grid_row": null,
            "max_height": null,
            "align_content": null,
            "visibility": null,
            "align_self": null,
            "height": null,
            "min_height": null,
            "padding": null,
            "grid_auto_rows": null,
            "grid_gap": null,
            "max_width": null,
            "order": null,
            "_view_module_version": "1.2.0",
            "grid_template_areas": null,
            "object_position": null,
            "object_fit": null,
            "grid_auto_columns": null,
            "margin": null,
            "display": null,
            "left": null
          }
        },
        "3ea13932cf3b40268eaa7c787d68b31f": {
          "model_module": "@jupyter-widgets/controls",
          "model_name": "HBoxModel",
          "state": {
            "_view_name": "HBoxView",
            "_dom_classes": [],
            "_model_name": "HBoxModel",
            "_view_module": "@jupyter-widgets/controls",
            "_model_module_version": "1.5.0",
            "_view_count": null,
            "_view_module_version": "1.5.0",
            "box_style": "",
            "layout": "IPY_MODEL_2c2966950cfa4c5fb508517129730e2a",
            "_model_module": "@jupyter-widgets/controls",
            "children": [
              "IPY_MODEL_3ba678572df5464e98bc4ee81c48298a",
              "IPY_MODEL_eae14c353f35421b965c4847d817dbc6"
            ]
          }
        },
        "2c2966950cfa4c5fb508517129730e2a": {
          "model_module": "@jupyter-widgets/base",
          "model_name": "LayoutModel",
          "state": {
            "_view_name": "LayoutView",
            "grid_template_rows": null,
            "right": null,
            "justify_content": null,
            "_view_module": "@jupyter-widgets/base",
            "overflow": null,
            "_model_module_version": "1.2.0",
            "_view_count": null,
            "flex_flow": null,
            "width": null,
            "min_width": null,
            "border": null,
            "align_items": null,
            "bottom": null,
            "_model_module": "@jupyter-widgets/base",
            "top": null,
            "grid_column": null,
            "overflow_y": null,
            "overflow_x": null,
            "grid_auto_flow": null,
            "grid_area": null,
            "grid_template_columns": null,
            "flex": null,
            "_model_name": "LayoutModel",
            "justify_items": null,
            "grid_row": null,
            "max_height": null,
            "align_content": null,
            "visibility": null,
            "align_self": null,
            "height": null,
            "min_height": null,
            "padding": null,
            "grid_auto_rows": null,
            "grid_gap": null,
            "max_width": null,
            "order": null,
            "_view_module_version": "1.2.0",
            "grid_template_areas": null,
            "object_position": null,
            "object_fit": null,
            "grid_auto_columns": null,
            "margin": null,
            "display": null,
            "left": null
          }
        },
        "3ba678572df5464e98bc4ee81c48298a": {
          "model_module": "@jupyter-widgets/controls",
          "model_name": "FloatProgressModel",
          "state": {
            "_view_name": "ProgressView",
            "style": "IPY_MODEL_2ed34034b9dd47df9c924c0b179aaa1e",
            "_dom_classes": [],
            "description": "Extraction completed...: 100%",
            "_model_name": "FloatProgressModel",
            "bar_style": "success",
            "max": 1,
            "_view_module": "@jupyter-widgets/controls",
            "_model_module_version": "1.5.0",
            "value": 1,
            "_view_count": null,
            "_view_module_version": "1.5.0",
            "orientation": "horizontal",
            "min": 0,
            "description_tooltip": null,
            "_model_module": "@jupyter-widgets/controls",
            "layout": "IPY_MODEL_fe6e663ecf8a49048962ec8ce3a4142a"
          }
        },
        "eae14c353f35421b965c4847d817dbc6": {
          "model_module": "@jupyter-widgets/controls",
          "model_name": "HTMLModel",
          "state": {
            "_view_name": "HTMLView",
            "style": "IPY_MODEL_9e222332c21a427b997f53059cfc48bc",
            "_dom_classes": [],
            "description": "",
            "_model_name": "HTMLModel",
            "placeholder": "​",
            "_view_module": "@jupyter-widgets/controls",
            "_model_module_version": "1.5.0",
            "value": " 4/4 [00:02&lt;00:00,  1.86 file/s]",
            "_view_count": null,
            "_view_module_version": "1.5.0",
            "description_tooltip": null,
            "_model_module": "@jupyter-widgets/controls",
            "layout": "IPY_MODEL_741ad439783c46be91e119676857cd3f"
          }
        },
        "2ed34034b9dd47df9c924c0b179aaa1e": {
          "model_module": "@jupyter-widgets/controls",
          "model_name": "ProgressStyleModel",
          "state": {
            "_view_name": "StyleView",
            "_model_name": "ProgressStyleModel",
            "description_width": "initial",
            "_view_module": "@jupyter-widgets/base",
            "_model_module_version": "1.5.0",
            "_view_count": null,
            "_view_module_version": "1.2.0",
            "bar_color": null,
            "_model_module": "@jupyter-widgets/controls"
          }
        },
        "fe6e663ecf8a49048962ec8ce3a4142a": {
          "model_module": "@jupyter-widgets/base",
          "model_name": "LayoutModel",
          "state": {
            "_view_name": "LayoutView",
            "grid_template_rows": null,
            "right": null,
            "justify_content": null,
            "_view_module": "@jupyter-widgets/base",
            "overflow": null,
            "_model_module_version": "1.2.0",
            "_view_count": null,
            "flex_flow": null,
            "width": null,
            "min_width": null,
            "border": null,
            "align_items": null,
            "bottom": null,
            "_model_module": "@jupyter-widgets/base",
            "top": null,
            "grid_column": null,
            "overflow_y": null,
            "overflow_x": null,
            "grid_auto_flow": null,
            "grid_area": null,
            "grid_template_columns": null,
            "flex": null,
            "_model_name": "LayoutModel",
            "justify_items": null,
            "grid_row": null,
            "max_height": null,
            "align_content": null,
            "visibility": null,
            "align_self": null,
            "height": null,
            "min_height": null,
            "padding": null,
            "grid_auto_rows": null,
            "grid_gap": null,
            "max_width": null,
            "order": null,
            "_view_module_version": "1.2.0",
            "grid_template_areas": null,
            "object_position": null,
            "object_fit": null,
            "grid_auto_columns": null,
            "margin": null,
            "display": null,
            "left": null
          }
        },
        "9e222332c21a427b997f53059cfc48bc": {
          "model_module": "@jupyter-widgets/controls",
          "model_name": "DescriptionStyleModel",
          "state": {
            "_view_name": "StyleView",
            "_model_name": "DescriptionStyleModel",
            "description_width": "",
            "_view_module": "@jupyter-widgets/base",
            "_model_module_version": "1.5.0",
            "_view_count": null,
            "_view_module_version": "1.2.0",
            "_model_module": "@jupyter-widgets/controls"
          }
        },
        "741ad439783c46be91e119676857cd3f": {
          "model_module": "@jupyter-widgets/base",
          "model_name": "LayoutModel",
          "state": {
            "_view_name": "LayoutView",
            "grid_template_rows": null,
            "right": null,
            "justify_content": null,
            "_view_module": "@jupyter-widgets/base",
            "overflow": null,
            "_model_module_version": "1.2.0",
            "_view_count": null,
            "flex_flow": null,
            "width": null,
            "min_width": null,
            "border": null,
            "align_items": null,
            "bottom": null,
            "_model_module": "@jupyter-widgets/base",
            "top": null,
            "grid_column": null,
            "overflow_y": null,
            "overflow_x": null,
            "grid_auto_flow": null,
            "grid_area": null,
            "grid_template_columns": null,
            "flex": null,
            "_model_name": "LayoutModel",
            "justify_items": null,
            "grid_row": null,
            "max_height": null,
            "align_content": null,
            "visibility": null,
            "align_self": null,
            "height": null,
            "min_height": null,
            "padding": null,
            "grid_auto_rows": null,
            "grid_gap": null,
            "max_width": null,
            "order": null,
            "_view_module_version": "1.2.0",
            "grid_template_areas": null,
            "object_position": null,
            "object_fit": null,
            "grid_auto_columns": null,
            "margin": null,
            "display": null,
            "left": null
          }
        },
        "b4be3c12c8144351a69eb2466aeebf0a": {
          "model_module": "@jupyter-widgets/controls",
          "model_name": "HBoxModel",
          "state": {
            "_view_name": "HBoxView",
            "_dom_classes": [],
            "_model_name": "HBoxModel",
            "_view_module": "@jupyter-widgets/controls",
            "_model_module_version": "1.5.0",
            "_view_count": null,
            "_view_module_version": "1.5.0",
            "box_style": "",
            "layout": "IPY_MODEL_97c3c055b9fb4a779beb87b2869856a7",
            "_model_module": "@jupyter-widgets/controls",
            "children": [
              "IPY_MODEL_c99aa7f893ca4a4ebda951029649894a",
              "IPY_MODEL_efc9c7629e6a4ccf9ff1302639557ce9"
            ]
          }
        },
        "97c3c055b9fb4a779beb87b2869856a7": {
          "model_module": "@jupyter-widgets/base",
          "model_name": "LayoutModel",
          "state": {
            "_view_name": "LayoutView",
            "grid_template_rows": null,
            "right": null,
            "justify_content": null,
            "_view_module": "@jupyter-widgets/base",
            "overflow": null,
            "_model_module_version": "1.2.0",
            "_view_count": null,
            "flex_flow": null,
            "width": null,
            "min_width": null,
            "border": null,
            "align_items": null,
            "bottom": null,
            "_model_module": "@jupyter-widgets/base",
            "top": null,
            "grid_column": null,
            "overflow_y": null,
            "overflow_x": null,
            "grid_auto_flow": null,
            "grid_area": null,
            "grid_template_columns": null,
            "flex": null,
            "_model_name": "LayoutModel",
            "justify_items": null,
            "grid_row": null,
            "max_height": null,
            "align_content": null,
            "visibility": null,
            "align_self": null,
            "height": null,
            "min_height": null,
            "padding": null,
            "grid_auto_rows": null,
            "grid_gap": null,
            "max_width": null,
            "order": null,
            "_view_module_version": "1.2.0",
            "grid_template_areas": null,
            "object_position": null,
            "object_fit": null,
            "grid_auto_columns": null,
            "margin": null,
            "display": null,
            "left": null
          }
        },
        "c99aa7f893ca4a4ebda951029649894a": {
          "model_module": "@jupyter-widgets/controls",
          "model_name": "FloatProgressModel",
          "state": {
            "_view_name": "ProgressView",
            "style": "IPY_MODEL_214cab4d09424cf9ad32585d61d6937d",
            "_dom_classes": [],
            "description": "",
            "_model_name": "FloatProgressModel",
            "bar_style": "info",
            "max": 1,
            "_view_module": "@jupyter-widgets/controls",
            "_model_module_version": "1.5.0",
            "value": 1,
            "_view_count": null,
            "_view_module_version": "1.5.0",
            "orientation": "horizontal",
            "min": 0,
            "description_tooltip": null,
            "_model_module": "@jupyter-widgets/controls",
            "layout": "IPY_MODEL_65fec9954aaa4f3991b7ca9181b42638"
          }
        },
        "efc9c7629e6a4ccf9ff1302639557ce9": {
          "model_module": "@jupyter-widgets/controls",
          "model_name": "HTMLModel",
          "state": {
            "_view_name": "HTMLView",
            "style": "IPY_MODEL_713a78746c2045c393825a6aa79a5685",
            "_dom_classes": [],
            "description": "",
            "_model_name": "HTMLModel",
            "placeholder": "​",
            "_view_module": "@jupyter-widgets/controls",
            "_model_module_version": "1.5.0",
            "value": " 60000/0 [00:25&lt;00:00, 2966.72 examples/s]",
            "_view_count": null,
            "_view_module_version": "1.5.0",
            "description_tooltip": null,
            "_model_module": "@jupyter-widgets/controls",
            "layout": "IPY_MODEL_09461b6c2f0744c196ddf4b4aaab576a"
          }
        },
        "214cab4d09424cf9ad32585d61d6937d": {
          "model_module": "@jupyter-widgets/controls",
          "model_name": "ProgressStyleModel",
          "state": {
            "_view_name": "StyleView",
            "_model_name": "ProgressStyleModel",
            "description_width": "initial",
            "_view_module": "@jupyter-widgets/base",
            "_model_module_version": "1.5.0",
            "_view_count": null,
            "_view_module_version": "1.2.0",
            "bar_color": null,
            "_model_module": "@jupyter-widgets/controls"
          }
        },
        "65fec9954aaa4f3991b7ca9181b42638": {
          "model_module": "@jupyter-widgets/base",
          "model_name": "LayoutModel",
          "state": {
            "_view_name": "LayoutView",
            "grid_template_rows": null,
            "right": null,
            "justify_content": null,
            "_view_module": "@jupyter-widgets/base",
            "overflow": null,
            "_model_module_version": "1.2.0",
            "_view_count": null,
            "flex_flow": null,
            "width": null,
            "min_width": null,
            "border": null,
            "align_items": null,
            "bottom": null,
            "_model_module": "@jupyter-widgets/base",
            "top": null,
            "grid_column": null,
            "overflow_y": null,
            "overflow_x": null,
            "grid_auto_flow": null,
            "grid_area": null,
            "grid_template_columns": null,
            "flex": null,
            "_model_name": "LayoutModel",
            "justify_items": null,
            "grid_row": null,
            "max_height": null,
            "align_content": null,
            "visibility": null,
            "align_self": null,
            "height": null,
            "min_height": null,
            "padding": null,
            "grid_auto_rows": null,
            "grid_gap": null,
            "max_width": null,
            "order": null,
            "_view_module_version": "1.2.0",
            "grid_template_areas": null,
            "object_position": null,
            "object_fit": null,
            "grid_auto_columns": null,
            "margin": null,
            "display": null,
            "left": null
          }
        },
        "713a78746c2045c393825a6aa79a5685": {
          "model_module": "@jupyter-widgets/controls",
          "model_name": "DescriptionStyleModel",
          "state": {
            "_view_name": "StyleView",
            "_model_name": "DescriptionStyleModel",
            "description_width": "",
            "_view_module": "@jupyter-widgets/base",
            "_model_module_version": "1.5.0",
            "_view_count": null,
            "_view_module_version": "1.2.0",
            "_model_module": "@jupyter-widgets/controls"
          }
        },
        "09461b6c2f0744c196ddf4b4aaab576a": {
          "model_module": "@jupyter-widgets/base",
          "model_name": "LayoutModel",
          "state": {
            "_view_name": "LayoutView",
            "grid_template_rows": null,
            "right": null,
            "justify_content": null,
            "_view_module": "@jupyter-widgets/base",
            "overflow": null,
            "_model_module_version": "1.2.0",
            "_view_count": null,
            "flex_flow": null,
            "width": null,
            "min_width": null,
            "border": null,
            "align_items": null,
            "bottom": null,
            "_model_module": "@jupyter-widgets/base",
            "top": null,
            "grid_column": null,
            "overflow_y": null,
            "overflow_x": null,
            "grid_auto_flow": null,
            "grid_area": null,
            "grid_template_columns": null,
            "flex": null,
            "_model_name": "LayoutModel",
            "justify_items": null,
            "grid_row": null,
            "max_height": null,
            "align_content": null,
            "visibility": null,
            "align_self": null,
            "height": null,
            "min_height": null,
            "padding": null,
            "grid_auto_rows": null,
            "grid_gap": null,
            "max_width": null,
            "order": null,
            "_view_module_version": "1.2.0",
            "grid_template_areas": null,
            "object_position": null,
            "object_fit": null,
            "grid_auto_columns": null,
            "margin": null,
            "display": null,
            "left": null
          }
        },
        "99a54e60cdfb4a3f83c42710a2a068c8": {
          "model_module": "@jupyter-widgets/controls",
          "model_name": "HBoxModel",
          "state": {
            "_view_name": "HBoxView",
            "_dom_classes": [],
            "_model_name": "HBoxModel",
            "_view_module": "@jupyter-widgets/controls",
            "_model_module_version": "1.5.0",
            "_view_count": null,
            "_view_module_version": "1.5.0",
            "box_style": "",
            "layout": "IPY_MODEL_58f32b78e69540409a7eed20451a9799",
            "_model_module": "@jupyter-widgets/controls",
            "children": [
              "IPY_MODEL_a0594ca89b5447a9b1560e0c66697084",
              "IPY_MODEL_e88c76c8e18e479bbca5503f3ba89e84"
            ]
          }
        },
        "58f32b78e69540409a7eed20451a9799": {
          "model_module": "@jupyter-widgets/base",
          "model_name": "LayoutModel",
          "state": {
            "_view_name": "LayoutView",
            "grid_template_rows": null,
            "right": null,
            "justify_content": null,
            "_view_module": "@jupyter-widgets/base",
            "overflow": null,
            "_model_module_version": "1.2.0",
            "_view_count": null,
            "flex_flow": null,
            "width": null,
            "min_width": null,
            "border": null,
            "align_items": null,
            "bottom": null,
            "_model_module": "@jupyter-widgets/base",
            "top": null,
            "grid_column": null,
            "overflow_y": null,
            "overflow_x": null,
            "grid_auto_flow": null,
            "grid_area": null,
            "grid_template_columns": null,
            "flex": null,
            "_model_name": "LayoutModel",
            "justify_items": null,
            "grid_row": null,
            "max_height": null,
            "align_content": null,
            "visibility": null,
            "align_self": null,
            "height": null,
            "min_height": null,
            "padding": null,
            "grid_auto_rows": null,
            "grid_gap": null,
            "max_width": null,
            "order": null,
            "_view_module_version": "1.2.0",
            "grid_template_areas": null,
            "object_position": null,
            "object_fit": null,
            "grid_auto_columns": null,
            "margin": null,
            "display": null,
            "left": null
          }
        },
        "a0594ca89b5447a9b1560e0c66697084": {
          "model_module": "@jupyter-widgets/controls",
          "model_name": "FloatProgressModel",
          "state": {
            "_view_name": "ProgressView",
            "style": "IPY_MODEL_1f52569532c943a494b2360d2f26ab70",
            "_dom_classes": [],
            "description": " 71%",
            "_model_name": "FloatProgressModel",
            "bar_style": "danger",
            "max": 60000,
            "_view_module": "@jupyter-widgets/controls",
            "_model_module_version": "1.5.0",
            "value": 42419,
            "_view_count": null,
            "_view_module_version": "1.5.0",
            "orientation": "horizontal",
            "min": 0,
            "description_tooltip": null,
            "_model_module": "@jupyter-widgets/controls",
            "layout": "IPY_MODEL_58cff75919424fafa6f302d24789ee44"
          }
        },
        "e88c76c8e18e479bbca5503f3ba89e84": {
          "model_module": "@jupyter-widgets/controls",
          "model_name": "HTMLModel",
          "state": {
            "_view_name": "HTMLView",
            "style": "IPY_MODEL_198fd1b7918e4a43a97c0d81896091d3",
            "_dom_classes": [],
            "description": "",
            "_model_name": "HTMLModel",
            "placeholder": "​",
            "_view_module": "@jupyter-widgets/controls",
            "_model_module_version": "1.5.0",
            "value": " 42419/60000 [00:00&lt;00:00, 45829.20 examples/s]",
            "_view_count": null,
            "_view_module_version": "1.5.0",
            "description_tooltip": null,
            "_model_module": "@jupyter-widgets/controls",
            "layout": "IPY_MODEL_91b3f18eaf33474dabe91e71f2db13c2"
          }
        },
        "1f52569532c943a494b2360d2f26ab70": {
          "model_module": "@jupyter-widgets/controls",
          "model_name": "ProgressStyleModel",
          "state": {
            "_view_name": "StyleView",
            "_model_name": "ProgressStyleModel",
            "description_width": "initial",
            "_view_module": "@jupyter-widgets/base",
            "_model_module_version": "1.5.0",
            "_view_count": null,
            "_view_module_version": "1.2.0",
            "bar_color": null,
            "_model_module": "@jupyter-widgets/controls"
          }
        },
        "58cff75919424fafa6f302d24789ee44": {
          "model_module": "@jupyter-widgets/base",
          "model_name": "LayoutModel",
          "state": {
            "_view_name": "LayoutView",
            "grid_template_rows": null,
            "right": null,
            "justify_content": null,
            "_view_module": "@jupyter-widgets/base",
            "overflow": null,
            "_model_module_version": "1.2.0",
            "_view_count": null,
            "flex_flow": null,
            "width": null,
            "min_width": null,
            "border": null,
            "align_items": null,
            "bottom": null,
            "_model_module": "@jupyter-widgets/base",
            "top": null,
            "grid_column": null,
            "overflow_y": null,
            "overflow_x": null,
            "grid_auto_flow": null,
            "grid_area": null,
            "grid_template_columns": null,
            "flex": null,
            "_model_name": "LayoutModel",
            "justify_items": null,
            "grid_row": null,
            "max_height": null,
            "align_content": null,
            "visibility": null,
            "align_self": null,
            "height": null,
            "min_height": null,
            "padding": null,
            "grid_auto_rows": null,
            "grid_gap": null,
            "max_width": null,
            "order": null,
            "_view_module_version": "1.2.0",
            "grid_template_areas": null,
            "object_position": null,
            "object_fit": null,
            "grid_auto_columns": null,
            "margin": null,
            "display": null,
            "left": null
          }
        },
        "198fd1b7918e4a43a97c0d81896091d3": {
          "model_module": "@jupyter-widgets/controls",
          "model_name": "DescriptionStyleModel",
          "state": {
            "_view_name": "StyleView",
            "_model_name": "DescriptionStyleModel",
            "description_width": "",
            "_view_module": "@jupyter-widgets/base",
            "_model_module_version": "1.5.0",
            "_view_count": null,
            "_view_module_version": "1.2.0",
            "_model_module": "@jupyter-widgets/controls"
          }
        },
        "91b3f18eaf33474dabe91e71f2db13c2": {
          "model_module": "@jupyter-widgets/base",
          "model_name": "LayoutModel",
          "state": {
            "_view_name": "LayoutView",
            "grid_template_rows": null,
            "right": null,
            "justify_content": null,
            "_view_module": "@jupyter-widgets/base",
            "overflow": null,
            "_model_module_version": "1.2.0",
            "_view_count": null,
            "flex_flow": null,
            "width": null,
            "min_width": null,
            "border": null,
            "align_items": null,
            "bottom": null,
            "_model_module": "@jupyter-widgets/base",
            "top": null,
            "grid_column": null,
            "overflow_y": null,
            "overflow_x": null,
            "grid_auto_flow": null,
            "grid_area": null,
            "grid_template_columns": null,
            "flex": null,
            "_model_name": "LayoutModel",
            "justify_items": null,
            "grid_row": null,
            "max_height": null,
            "align_content": null,
            "visibility": null,
            "align_self": null,
            "height": null,
            "min_height": null,
            "padding": null,
            "grid_auto_rows": null,
            "grid_gap": null,
            "max_width": null,
            "order": null,
            "_view_module_version": "1.2.0",
            "grid_template_areas": null,
            "object_position": null,
            "object_fit": null,
            "grid_auto_columns": null,
            "margin": null,
            "display": null,
            "left": null
          }
        },
        "f17410bba7cb46f08c79a9c90313726e": {
          "model_module": "@jupyter-widgets/controls",
          "model_name": "HBoxModel",
          "state": {
            "_view_name": "HBoxView",
            "_dom_classes": [],
            "_model_name": "HBoxModel",
            "_view_module": "@jupyter-widgets/controls",
            "_model_module_version": "1.5.0",
            "_view_count": null,
            "_view_module_version": "1.5.0",
            "box_style": "",
            "layout": "IPY_MODEL_2cc8c791dcbc4d969be61b81080ca91b",
            "_model_module": "@jupyter-widgets/controls",
            "children": [
              "IPY_MODEL_1b178c4bda664339872ba3a6b0098604",
              "IPY_MODEL_8e96d71561eb41ee822a14b4d6c7cf75"
            ]
          }
        },
        "2cc8c791dcbc4d969be61b81080ca91b": {
          "model_module": "@jupyter-widgets/base",
          "model_name": "LayoutModel",
          "state": {
            "_view_name": "LayoutView",
            "grid_template_rows": null,
            "right": null,
            "justify_content": null,
            "_view_module": "@jupyter-widgets/base",
            "overflow": null,
            "_model_module_version": "1.2.0",
            "_view_count": null,
            "flex_flow": null,
            "width": null,
            "min_width": null,
            "border": null,
            "align_items": null,
            "bottom": null,
            "_model_module": "@jupyter-widgets/base",
            "top": null,
            "grid_column": null,
            "overflow_y": null,
            "overflow_x": null,
            "grid_auto_flow": null,
            "grid_area": null,
            "grid_template_columns": null,
            "flex": null,
            "_model_name": "LayoutModel",
            "justify_items": null,
            "grid_row": null,
            "max_height": null,
            "align_content": null,
            "visibility": null,
            "align_self": null,
            "height": null,
            "min_height": null,
            "padding": null,
            "grid_auto_rows": null,
            "grid_gap": null,
            "max_width": null,
            "order": null,
            "_view_module_version": "1.2.0",
            "grid_template_areas": null,
            "object_position": null,
            "object_fit": null,
            "grid_auto_columns": null,
            "margin": null,
            "display": null,
            "left": null
          }
        },
        "1b178c4bda664339872ba3a6b0098604": {
          "model_module": "@jupyter-widgets/controls",
          "model_name": "FloatProgressModel",
          "state": {
            "_view_name": "ProgressView",
            "style": "IPY_MODEL_1ed3a3c4bc484deab272325db5159e4f",
            "_dom_classes": [],
            "description": "",
            "_model_name": "FloatProgressModel",
            "bar_style": "info",
            "max": 1,
            "_view_module": "@jupyter-widgets/controls",
            "_model_module_version": "1.5.0",
            "value": 1,
            "_view_count": null,
            "_view_module_version": "1.5.0",
            "orientation": "horizontal",
            "min": 0,
            "description_tooltip": null,
            "_model_module": "@jupyter-widgets/controls",
            "layout": "IPY_MODEL_8d186d7c64954ff0b0ed6ee9919bd3fa"
          }
        },
        "8e96d71561eb41ee822a14b4d6c7cf75": {
          "model_module": "@jupyter-widgets/controls",
          "model_name": "HTMLModel",
          "state": {
            "_view_name": "HTMLView",
            "style": "IPY_MODEL_6d505cbe89ed4f60a8d4349a001a906b",
            "_dom_classes": [],
            "description": "",
            "_model_name": "HTMLModel",
            "placeholder": "​",
            "_view_module": "@jupyter-widgets/controls",
            "_model_module_version": "1.5.0",
            "value": " 10000/0 [00:03&lt;00:00, 3100.89 examples/s]",
            "_view_count": null,
            "_view_module_version": "1.5.0",
            "description_tooltip": null,
            "_model_module": "@jupyter-widgets/controls",
            "layout": "IPY_MODEL_9eb5224320ad42c5ab1398a3539383f0"
          }
        },
        "1ed3a3c4bc484deab272325db5159e4f": {
          "model_module": "@jupyter-widgets/controls",
          "model_name": "ProgressStyleModel",
          "state": {
            "_view_name": "StyleView",
            "_model_name": "ProgressStyleModel",
            "description_width": "initial",
            "_view_module": "@jupyter-widgets/base",
            "_model_module_version": "1.5.0",
            "_view_count": null,
            "_view_module_version": "1.2.0",
            "bar_color": null,
            "_model_module": "@jupyter-widgets/controls"
          }
        },
        "8d186d7c64954ff0b0ed6ee9919bd3fa": {
          "model_module": "@jupyter-widgets/base",
          "model_name": "LayoutModel",
          "state": {
            "_view_name": "LayoutView",
            "grid_template_rows": null,
            "right": null,
            "justify_content": null,
            "_view_module": "@jupyter-widgets/base",
            "overflow": null,
            "_model_module_version": "1.2.0",
            "_view_count": null,
            "flex_flow": null,
            "width": null,
            "min_width": null,
            "border": null,
            "align_items": null,
            "bottom": null,
            "_model_module": "@jupyter-widgets/base",
            "top": null,
            "grid_column": null,
            "overflow_y": null,
            "overflow_x": null,
            "grid_auto_flow": null,
            "grid_area": null,
            "grid_template_columns": null,
            "flex": null,
            "_model_name": "LayoutModel",
            "justify_items": null,
            "grid_row": null,
            "max_height": null,
            "align_content": null,
            "visibility": null,
            "align_self": null,
            "height": null,
            "min_height": null,
            "padding": null,
            "grid_auto_rows": null,
            "grid_gap": null,
            "max_width": null,
            "order": null,
            "_view_module_version": "1.2.0",
            "grid_template_areas": null,
            "object_position": null,
            "object_fit": null,
            "grid_auto_columns": null,
            "margin": null,
            "display": null,
            "left": null
          }
        },
        "6d505cbe89ed4f60a8d4349a001a906b": {
          "model_module": "@jupyter-widgets/controls",
          "model_name": "DescriptionStyleModel",
          "state": {
            "_view_name": "StyleView",
            "_model_name": "DescriptionStyleModel",
            "description_width": "",
            "_view_module": "@jupyter-widgets/base",
            "_model_module_version": "1.5.0",
            "_view_count": null,
            "_view_module_version": "1.2.0",
            "_model_module": "@jupyter-widgets/controls"
          }
        },
        "9eb5224320ad42c5ab1398a3539383f0": {
          "model_module": "@jupyter-widgets/base",
          "model_name": "LayoutModel",
          "state": {
            "_view_name": "LayoutView",
            "grid_template_rows": null,
            "right": null,
            "justify_content": null,
            "_view_module": "@jupyter-widgets/base",
            "overflow": null,
            "_model_module_version": "1.2.0",
            "_view_count": null,
            "flex_flow": null,
            "width": null,
            "min_width": null,
            "border": null,
            "align_items": null,
            "bottom": null,
            "_model_module": "@jupyter-widgets/base",
            "top": null,
            "grid_column": null,
            "overflow_y": null,
            "overflow_x": null,
            "grid_auto_flow": null,
            "grid_area": null,
            "grid_template_columns": null,
            "flex": null,
            "_model_name": "LayoutModel",
            "justify_items": null,
            "grid_row": null,
            "max_height": null,
            "align_content": null,
            "visibility": null,
            "align_self": null,
            "height": null,
            "min_height": null,
            "padding": null,
            "grid_auto_rows": null,
            "grid_gap": null,
            "max_width": null,
            "order": null,
            "_view_module_version": "1.2.0",
            "grid_template_areas": null,
            "object_position": null,
            "object_fit": null,
            "grid_auto_columns": null,
            "margin": null,
            "display": null,
            "left": null
          }
        },
        "1819ef3847c54b9cbbfc988ba425c858": {
          "model_module": "@jupyter-widgets/controls",
          "model_name": "HBoxModel",
          "state": {
            "_view_name": "HBoxView",
            "_dom_classes": [],
            "_model_name": "HBoxModel",
            "_view_module": "@jupyter-widgets/controls",
            "_model_module_version": "1.5.0",
            "_view_count": null,
            "_view_module_version": "1.5.0",
            "box_style": "",
            "layout": "IPY_MODEL_3d50cabe9b4f46b186f41c5c60ebebfd",
            "_model_module": "@jupyter-widgets/controls",
            "children": [
              "IPY_MODEL_b11c05d428d44239b57f7e07dc79ede5",
              "IPY_MODEL_355e808a469f453aa6900ef774d90fbf"
            ]
          }
        },
        "3d50cabe9b4f46b186f41c5c60ebebfd": {
          "model_module": "@jupyter-widgets/base",
          "model_name": "LayoutModel",
          "state": {
            "_view_name": "LayoutView",
            "grid_template_rows": null,
            "right": null,
            "justify_content": null,
            "_view_module": "@jupyter-widgets/base",
            "overflow": null,
            "_model_module_version": "1.2.0",
            "_view_count": null,
            "flex_flow": null,
            "width": null,
            "min_width": null,
            "border": null,
            "align_items": null,
            "bottom": null,
            "_model_module": "@jupyter-widgets/base",
            "top": null,
            "grid_column": null,
            "overflow_y": null,
            "overflow_x": null,
            "grid_auto_flow": null,
            "grid_area": null,
            "grid_template_columns": null,
            "flex": null,
            "_model_name": "LayoutModel",
            "justify_items": null,
            "grid_row": null,
            "max_height": null,
            "align_content": null,
            "visibility": null,
            "align_self": null,
            "height": null,
            "min_height": null,
            "padding": null,
            "grid_auto_rows": null,
            "grid_gap": null,
            "max_width": null,
            "order": null,
            "_view_module_version": "1.2.0",
            "grid_template_areas": null,
            "object_position": null,
            "object_fit": null,
            "grid_auto_columns": null,
            "margin": null,
            "display": null,
            "left": null
          }
        },
        "b11c05d428d44239b57f7e07dc79ede5": {
          "model_module": "@jupyter-widgets/controls",
          "model_name": "FloatProgressModel",
          "state": {
            "_view_name": "ProgressView",
            "style": "IPY_MODEL_a114c701232a45559bd53d58691530c3",
            "_dom_classes": [],
            "description": "  0%",
            "_model_name": "FloatProgressModel",
            "bar_style": "danger",
            "max": 10000,
            "_view_module": "@jupyter-widgets/controls",
            "_model_module_version": "1.5.0",
            "value": 0,
            "_view_count": null,
            "_view_module_version": "1.5.0",
            "orientation": "horizontal",
            "min": 0,
            "description_tooltip": null,
            "_model_module": "@jupyter-widgets/controls",
            "layout": "IPY_MODEL_c0d02fd84f1545efb1fe1ba897e7d9f9"
          }
        },
        "355e808a469f453aa6900ef774d90fbf": {
          "model_module": "@jupyter-widgets/controls",
          "model_name": "HTMLModel",
          "state": {
            "_view_name": "HTMLView",
            "style": "IPY_MODEL_3974b3db6020421185029eaeb92a3183",
            "_dom_classes": [],
            "description": "",
            "_model_name": "HTMLModel",
            "placeholder": "​",
            "_view_module": "@jupyter-widgets/controls",
            "_model_module_version": "1.5.0",
            "value": " 0/10000 [00:00&lt;?, ? examples/s]",
            "_view_count": null,
            "_view_module_version": "1.5.0",
            "description_tooltip": null,
            "_model_module": "@jupyter-widgets/controls",
            "layout": "IPY_MODEL_cd2c32954ff347c6835088ea3b26d2e6"
          }
        },
        "a114c701232a45559bd53d58691530c3": {
          "model_module": "@jupyter-widgets/controls",
          "model_name": "ProgressStyleModel",
          "state": {
            "_view_name": "StyleView",
            "_model_name": "ProgressStyleModel",
            "description_width": "initial",
            "_view_module": "@jupyter-widgets/base",
            "_model_module_version": "1.5.0",
            "_view_count": null,
            "_view_module_version": "1.2.0",
            "bar_color": null,
            "_model_module": "@jupyter-widgets/controls"
          }
        },
        "c0d02fd84f1545efb1fe1ba897e7d9f9": {
          "model_module": "@jupyter-widgets/base",
          "model_name": "LayoutModel",
          "state": {
            "_view_name": "LayoutView",
            "grid_template_rows": null,
            "right": null,
            "justify_content": null,
            "_view_module": "@jupyter-widgets/base",
            "overflow": null,
            "_model_module_version": "1.2.0",
            "_view_count": null,
            "flex_flow": null,
            "width": null,
            "min_width": null,
            "border": null,
            "align_items": null,
            "bottom": null,
            "_model_module": "@jupyter-widgets/base",
            "top": null,
            "grid_column": null,
            "overflow_y": null,
            "overflow_x": null,
            "grid_auto_flow": null,
            "grid_area": null,
            "grid_template_columns": null,
            "flex": null,
            "_model_name": "LayoutModel",
            "justify_items": null,
            "grid_row": null,
            "max_height": null,
            "align_content": null,
            "visibility": null,
            "align_self": null,
            "height": null,
            "min_height": null,
            "padding": null,
            "grid_auto_rows": null,
            "grid_gap": null,
            "max_width": null,
            "order": null,
            "_view_module_version": "1.2.0",
            "grid_template_areas": null,
            "object_position": null,
            "object_fit": null,
            "grid_auto_columns": null,
            "margin": null,
            "display": null,
            "left": null
          }
        },
        "3974b3db6020421185029eaeb92a3183": {
          "model_module": "@jupyter-widgets/controls",
          "model_name": "DescriptionStyleModel",
          "state": {
            "_view_name": "StyleView",
            "_model_name": "DescriptionStyleModel",
            "description_width": "",
            "_view_module": "@jupyter-widgets/base",
            "_model_module_version": "1.5.0",
            "_view_count": null,
            "_view_module_version": "1.2.0",
            "_model_module": "@jupyter-widgets/controls"
          }
        },
        "cd2c32954ff347c6835088ea3b26d2e6": {
          "model_module": "@jupyter-widgets/base",
          "model_name": "LayoutModel",
          "state": {
            "_view_name": "LayoutView",
            "grid_template_rows": null,
            "right": null,
            "justify_content": null,
            "_view_module": "@jupyter-widgets/base",
            "overflow": null,
            "_model_module_version": "1.2.0",
            "_view_count": null,
            "flex_flow": null,
            "width": null,
            "min_width": null,
            "border": null,
            "align_items": null,
            "bottom": null,
            "_model_module": "@jupyter-widgets/base",
            "top": null,
            "grid_column": null,
            "overflow_y": null,
            "overflow_x": null,
            "grid_auto_flow": null,
            "grid_area": null,
            "grid_template_columns": null,
            "flex": null,
            "_model_name": "LayoutModel",
            "justify_items": null,
            "grid_row": null,
            "max_height": null,
            "align_content": null,
            "visibility": null,
            "align_self": null,
            "height": null,
            "min_height": null,
            "padding": null,
            "grid_auto_rows": null,
            "grid_gap": null,
            "max_width": null,
            "order": null,
            "_view_module_version": "1.2.0",
            "grid_template_areas": null,
            "object_position": null,
            "object_fit": null,
            "grid_auto_columns": null,
            "margin": null,
            "display": null,
            "left": null
          }
        }
      }
    }
  },
  "cells": [
    {
      "cell_type": "code",
      "metadata": {
        "id": "0Zbdng4uAola"
      },
      "source": [
        "import numpy as np\r\n",
        "%tensorflow_version 2.x\r\n",
        "import tensorflow as tf\r\n",
        "from tensorflow.keras import layers\r\n",
        "import tensorflow_datasets as tfds\r\n",
        "import tensorflow_probability as tfp\r\n",
        "import matplotlib.pyplot as plt\r\n",
        "from time import perf_counter, sleep"
      ],
      "execution_count": 1,
      "outputs": []
    },
    {
      "cell_type": "markdown",
      "metadata": {
        "id": "RHSU_jBpKcmP"
      },
      "source": [
        "### Fetching and Preprocessing"
      ]
    },
    {
      "cell_type": "code",
      "metadata": {
        "id": "F41qv2Ig_9BK",
        "colab": {
          "base_uri": "https://localhost:8080/",
          "height": 359,
          "referenced_widgets": [
            "2186391a84c3441bb49216d0cda51fa9",
            "b752f31d5a544c7f9fb2c960c1f3c4d4",
            "0c577fbdd8854689927a85acfef4a2fb",
            "68e3f5bb071d480c8a570ef62645b6e5",
            "fe3b7c6f1b4b4d4f81a132fe3d9f655e",
            "1ac6139c3c6f4368a977a5531e037967",
            "948a4ea50bd24e35acad531e7857a2e0",
            "7a77e8a42f1a42128ebe2b6eeab32010",
            "c61f1cbf186f4de8a60ebb799f0e610a",
            "51967ec9dd6745d6bab1356d2c43928a",
            "fae3fcba2c6a407797011be1e68b922c",
            "8ee6fb4ded8440bfad1ef784bdc2e5bc",
            "adfcd024332749ca8c4f64cd7b13bd82",
            "133a8ff0e97743b79634b8e139080086",
            "be02f01df44246f89bbd66a172916dd4",
            "37f77719972546c3bb0c3c631292cf62",
            "3ea13932cf3b40268eaa7c787d68b31f",
            "2c2966950cfa4c5fb508517129730e2a",
            "3ba678572df5464e98bc4ee81c48298a",
            "eae14c353f35421b965c4847d817dbc6",
            "2ed34034b9dd47df9c924c0b179aaa1e",
            "fe6e663ecf8a49048962ec8ce3a4142a",
            "9e222332c21a427b997f53059cfc48bc",
            "741ad439783c46be91e119676857cd3f",
            "b4be3c12c8144351a69eb2466aeebf0a",
            "97c3c055b9fb4a779beb87b2869856a7",
            "c99aa7f893ca4a4ebda951029649894a",
            "efc9c7629e6a4ccf9ff1302639557ce9",
            "214cab4d09424cf9ad32585d61d6937d",
            "65fec9954aaa4f3991b7ca9181b42638",
            "713a78746c2045c393825a6aa79a5685",
            "09461b6c2f0744c196ddf4b4aaab576a",
            "99a54e60cdfb4a3f83c42710a2a068c8",
            "58f32b78e69540409a7eed20451a9799",
            "a0594ca89b5447a9b1560e0c66697084",
            "e88c76c8e18e479bbca5503f3ba89e84",
            "1f52569532c943a494b2360d2f26ab70",
            "58cff75919424fafa6f302d24789ee44",
            "198fd1b7918e4a43a97c0d81896091d3",
            "91b3f18eaf33474dabe91e71f2db13c2",
            "f17410bba7cb46f08c79a9c90313726e",
            "2cc8c791dcbc4d969be61b81080ca91b",
            "1b178c4bda664339872ba3a6b0098604",
            "8e96d71561eb41ee822a14b4d6c7cf75",
            "1ed3a3c4bc484deab272325db5159e4f",
            "8d186d7c64954ff0b0ed6ee9919bd3fa",
            "6d505cbe89ed4f60a8d4349a001a906b",
            "9eb5224320ad42c5ab1398a3539383f0",
            "1819ef3847c54b9cbbfc988ba425c858",
            "3d50cabe9b4f46b186f41c5c60ebebfd",
            "b11c05d428d44239b57f7e07dc79ede5",
            "355e808a469f453aa6900ef774d90fbf",
            "a114c701232a45559bd53d58691530c3",
            "c0d02fd84f1545efb1fe1ba897e7d9f9",
            "3974b3db6020421185029eaeb92a3183",
            "cd2c32954ff347c6835088ea3b26d2e6"
          ]
        },
        "outputId": "0e4bf394-5660-4fd7-8caa-dab59a5e6595"
      },
      "source": [
        "(data_train, data_test), data_info = tfds.load(\"fashion_mnist\", as_supervised=True, split=[\"train\", \"test\"], with_info=True)"
      ],
      "execution_count": 2,
      "outputs": [
        {
          "output_type": "stream",
          "text": [
            "\u001b[1mDownloading and preparing dataset fashion_mnist/3.0.1 (download: 29.45 MiB, generated: 36.42 MiB, total: 65.87 MiB) to /root/tensorflow_datasets/fashion_mnist/3.0.1...\u001b[0m\n"
          ],
          "name": "stdout"
        },
        {
          "output_type": "display_data",
          "data": {
            "application/vnd.jupyter.widget-view+json": {
              "model_id": "2186391a84c3441bb49216d0cda51fa9",
              "version_minor": 0,
              "version_major": 2
            },
            "text/plain": [
              "HBox(children=(FloatProgress(value=1.0, bar_style='info', description='Dl Completed...', max=1.0, style=Progre…"
            ]
          },
          "metadata": {
            "tags": []
          }
        },
        {
          "output_type": "display_data",
          "data": {
            "application/vnd.jupyter.widget-view+json": {
              "model_id": "c61f1cbf186f4de8a60ebb799f0e610a",
              "version_minor": 0,
              "version_major": 2
            },
            "text/plain": [
              "HBox(children=(FloatProgress(value=1.0, bar_style='info', description='Dl Size...', max=1.0, style=ProgressSty…"
            ]
          },
          "metadata": {
            "tags": []
          }
        },
        {
          "output_type": "display_data",
          "data": {
            "application/vnd.jupyter.widget-view+json": {
              "model_id": "3ea13932cf3b40268eaa7c787d68b31f",
              "version_minor": 0,
              "version_major": 2
            },
            "text/plain": [
              "HBox(children=(FloatProgress(value=1.0, bar_style='info', description='Extraction completed...', max=1.0, styl…"
            ]
          },
          "metadata": {
            "tags": []
          }
        },
        {
          "output_type": "stream",
          "text": [
            "\n",
            "\n",
            "\n",
            "\n",
            "\n",
            "\n"
          ],
          "name": "stdout"
        },
        {
          "output_type": "display_data",
          "data": {
            "application/vnd.jupyter.widget-view+json": {
              "model_id": "b4be3c12c8144351a69eb2466aeebf0a",
              "version_minor": 0,
              "version_major": 2
            },
            "text/plain": [
              "HBox(children=(FloatProgress(value=1.0, bar_style='info', max=1.0), HTML(value='')))"
            ]
          },
          "metadata": {
            "tags": []
          }
        },
        {
          "output_type": "stream",
          "text": [
            "\rShuffling and writing examples to /root/tensorflow_datasets/fashion_mnist/3.0.1.incompleteNCMQ84/fashion_mnist-train.tfrecord\n"
          ],
          "name": "stdout"
        },
        {
          "output_type": "display_data",
          "data": {
            "application/vnd.jupyter.widget-view+json": {
              "model_id": "99a54e60cdfb4a3f83c42710a2a068c8",
              "version_minor": 0,
              "version_major": 2
            },
            "text/plain": [
              "HBox(children=(FloatProgress(value=0.0, max=60000.0), HTML(value='')))"
            ]
          },
          "metadata": {
            "tags": []
          }
        },
        {
          "output_type": "stream",
          "text": [
            "\r"
          ],
          "name": "stdout"
        },
        {
          "output_type": "display_data",
          "data": {
            "application/vnd.jupyter.widget-view+json": {
              "model_id": "f17410bba7cb46f08c79a9c90313726e",
              "version_minor": 0,
              "version_major": 2
            },
            "text/plain": [
              "HBox(children=(FloatProgress(value=1.0, bar_style='info', max=1.0), HTML(value='')))"
            ]
          },
          "metadata": {
            "tags": []
          }
        },
        {
          "output_type": "stream",
          "text": [
            "\rShuffling and writing examples to /root/tensorflow_datasets/fashion_mnist/3.0.1.incompleteNCMQ84/fashion_mnist-test.tfrecord\n"
          ],
          "name": "stdout"
        },
        {
          "output_type": "display_data",
          "data": {
            "application/vnd.jupyter.widget-view+json": {
              "model_id": "1819ef3847c54b9cbbfc988ba425c858",
              "version_minor": 0,
              "version_major": 2
            },
            "text/plain": [
              "HBox(children=(FloatProgress(value=0.0, max=10000.0), HTML(value='')))"
            ]
          },
          "metadata": {
            "tags": []
          }
        },
        {
          "output_type": "stream",
          "text": [
            "\u001b[1mDataset fashion_mnist downloaded and prepared to /root/tensorflow_datasets/fashion_mnist/3.0.1. Subsequent calls will reuse this data.\u001b[0m\n",
            "\r"
          ],
          "name": "stdout"
        }
      ]
    },
    {
      "cell_type": "code",
      "metadata": {
        "id": "ugGj_XTFAqMF"
      },
      "source": [
        "# First we have to normalise the sample images to a range\r\n",
        "# between 0 and 1 (by dividing thru the maximum which is 255 for RGB)\r\n",
        "data_train = data_train.map(lambda sample, label: (tf.cast(sample / 255, tf.float32), label))\r\n",
        "data_test = data_test.map(lambda sample, label: (tf.cast(sample / 255, tf.float32), label))"
      ],
      "execution_count": 3,
      "outputs": []
    },
    {
      "cell_type": "code",
      "metadata": {
        "colab": {
          "base_uri": "https://localhost:8080/",
          "height": 534
        },
        "id": "Aq5GcV0nCV0v",
        "outputId": "8179a94f-43c3-45a5-adf7-d423f0681e56"
      },
      "source": [
        "fig = tfds.show_examples(data_train, data_info)"
      ],
      "execution_count": 4,
      "outputs": [
        {
          "output_type": "display_data",
          "data": {
            "image/png": "[encoded data removed]",
            "text/plain": [
              "<Figure size 648x648 with 9 Axes>"
            ]
          },
          "metadata": {
            "tags": []
          }
        }
      ]
    },
    {
      "cell_type": "code",
      "metadata": {
        "id": "YsoLYEWoBJ2Y"
      },
      "source": [
        "batch_size = 64\r\n",
        "\r\n",
        "# We start by prefetching the data (The amout of samples to prefetch,\r\n",
        "# will be left to the framework)\r\n",
        "data_train = data_train.prefetch(tf.data.experimental.AUTOTUNE)\r\n",
        "data_test = data_test.prefetch(tf.data.experimental.AUTOTUNE)\r\n",
        "\r\n",
        "# Afterwards we will cache the data, so that we don't have to wait for normalising and\r\n",
        "# onehot encoding if we do a second training run \r\n",
        "data_train = data_train.cache()\r\n",
        "data_test = data_test.cache()\r\n",
        "\r\n",
        "# Now the data will be shuffled and batched afterwards.\r\n",
        "# Shuffeling before batching seems more reasonable, because that way we don't\r\n",
        "# get the same batch with different internal order each training, but completely different\r\n",
        "# batches instead.\r\n",
        "data_train = data_train.shuffle(10000)\r\n",
        "data_test = data_test.shuffle(10000)\r\n",
        "data_train = data_train.batch(batch_size)\r\n",
        "data_test = data_test.batch(batch_size)"
      ],
      "execution_count": 5,
      "outputs": []
    },
    {
      "cell_type": "markdown",
      "metadata": {
        "id": "8rRyfkVwKNk4"
      },
      "source": [
        "### Convolutional Autoencoder"
      ]
    },
    {
      "cell_type": "markdown",
      "metadata": {
        "id": "RxRuyC03Kumv"
      },
      "source": [
        "##### The Model(s)"
      ]
    },
    {
      "cell_type": "code",
      "metadata": {
        "id": "xpmH_lGoDB65"
      },
      "source": [
        "class Encoder(tf.keras.Model):\r\n",
        "  def __init__(self):\r\n",
        "    super(Encoder, self).__init__()\r\n",
        "\r\n",
        "    self.encoder = []\r\n",
        "    self.encoder.append(layers.Conv2D(32, (3,3), activation=\"relu\", padding=\"same\", strides=2, input_shape=(28,28,1)))\r\n",
        "    self.encoder.append(layers.Conv2D(16, (3,3), activation=\"relu\", padding=\"same\", strides=2))\r\n",
        "    self.encoder.append(layers.Conv2D(8, (3,3), activation=\"relu\", padding=\"same\", strides=2))\r\n",
        "\r\n",
        "    # self.encoder = []\r\n",
        "    # self.encoder.append(layers.Conv2D(16, (3,3), activation=\"relu\", padding=\"same\", strides=2, input_shape=(28,28,1)))\r\n",
        "    # self.encoder.append(layers.Conv2D(8, (3,3), activation=\"relu\", padding=\"same\", strides=2))\r\n",
        "\r\n",
        "\r\n",
        "  @tf.function\r\n",
        "  def call(self, x):\r\n",
        "    for layer in self.encoder:\r\n",
        "      x = layer(x)\r\n",
        "      \r\n",
        "    return x\r\n",
        "\r\n",
        "\r\n",
        "class Decoder(tf.keras.Model):\r\n",
        "  def __init__(self):\r\n",
        "    super(Decoder, self).__init__()\r\n",
        "\r\n",
        "    self.decoder = []\r\n",
        "    self.decoder.append(layers.Conv2DTranspose(8, 3, activation=\"relu\", padding=\"same\", strides=2, output_padding=0))\r\n",
        "    self.decoder.append(layers.Conv2DTranspose(16, 3, activation=\"relu\", padding=\"same\", strides=2, output_padding=1))\r\n",
        "    self.decoder.append(layers.Conv2DTranspose(32, 3, activation=\"relu\", padding=\"same\", strides=2, output_padding=1))\r\n",
        "    self.decoder.append(layers.Conv2D(1, (3,3), activation=\"sigmoid\", padding=\"same\"))\r\n",
        "\r\n",
        "    # self.decoder = []\r\n",
        "    # self.decoder.append(layers.Conv2DTranspose(8, 3, activation=\"relu\", padding=\"same\", strides=2))\r\n",
        "    # self.decoder.append(layers.Conv2DTranspose(16, 3, activation=\"relu\", padding=\"same\", strides=2))\r\n",
        "    # self.decoder.append(layers.Conv2D(1, (3,3), activation=\"sigmoid\", padding=\"same\"))\r\n",
        "\r\n",
        "\r\n",
        "  @tf.function\r\n",
        "  def call(self, x):\r\n",
        "    for layer in self.decoder:\r\n",
        "      x = layer(x)\r\n",
        "      \r\n",
        "    return x\r\n",
        "\r\n",
        "\r\n",
        "class Conv_Autoencoder(tf.keras.Model):\r\n",
        "  def __init__(self):\r\n",
        "    super(Conv_Autoencoder, self).__init__()\r\n",
        "\r\n",
        "    self.encoder = Encoder()\r\n",
        "    self.decoder = Decoder()\r\n",
        "\r\n",
        "  @tf.function\r\n",
        "  def call(self, x):\r\n",
        "    x_encoded = self.encoder(x)\r\n",
        "    x_decoded = self.decoder(x_encoded)\r\n",
        "\r\n",
        "    return x_decoded"
      ],
      "execution_count": 6,
      "outputs": []
    },
    {
      "cell_type": "markdown",
      "metadata": {
        "id": "_Mz0qXRSKz2H"
      },
      "source": [
        "##### Training"
      ]
    },
    {
      "cell_type": "code",
      "metadata": {
        "id": "TWowyF8qHUSA"
      },
      "source": [
        "def train_step(model, input, loss_function, optimizer):\r\n",
        "  # Train the model using gradient tape and return the loss for visualisation\r\n",
        "  with tf.GradientTape() as tape:\r\n",
        "    prediction = model(input)\r\n",
        "    loss = loss_function(input, prediction)\r\n",
        "    gradients = tape.gradient(loss, model.trainable_variables)\r\n",
        "\r\n",
        "  optimizer.apply_gradients(zip(gradients, model.trainable_variables))\r\n",
        "\r\n",
        "  return loss \r\n",
        "\r\n",
        "def test(model, test_data, loss_function):\r\n",
        "  # Get loss of a dataset\r\n",
        "  test_loss_aggregator = []\r\n",
        "\r\n",
        "  for (input, _) in test_data:\r\n",
        "    prediction = model(input)\r\n",
        "    sample_test_loss = loss_function(input, prediction)\r\n",
        "\r\n",
        "    test_loss_aggregator.append(sample_test_loss.numpy())\r\n",
        "\r\n",
        "  test_loss = np.mean(test_loss_aggregator)\r\n",
        "\r\n",
        "  return test_loss\r\n",
        "\r\n",
        "def train_model(num_epochs, learning_rate, model):\r\n",
        "  tf.keras.backend.clear_session()\r\n",
        "\r\n",
        "  # Initialise the loss function for training (Mean Squared Error seems to work quite well here)\r\n",
        "  mean_squared_error = tf.keras.losses.MeanSquaredError(reduction=tf.keras.losses.Reduction.SUM_OVER_BATCH_SIZE)\r\n",
        "\r\n",
        "  optimizer = tf.keras.optimizers.Adam(learning_rate)\r\n",
        "\r\n",
        "  train_losses, test_losses = [],[]\r\n",
        "\r\n",
        "  # Get the initial losses\r\n",
        "  start = perf_counter()\r\n",
        "  test_loss = test(model, data_test, mean_squared_error)\r\n",
        "  test_losses.append(test_loss)\r\n",
        "  train_loss = test(model, data_train, mean_squared_error)\r\n",
        "  train_losses.append(train_loss)\r\n",
        "\r\n",
        "  print((f\"Init:\" + \" \" *(len(str(num_epochs)) + 3) + \"\"\r\n",
        "         f\"  Loss: (Train: {'{0:.3f}'.format(round(float(train_losses[-1]), 3))},\"\r\n",
        "         f\"  Test: {'{0:.3f}'.format(round(float(test_loss), 3))}),\"\r\n",
        "         f\"  Overfitting Indicator: {'{0:+.3f}'.format(round(float(test_losses[-1] - train_losses[-1]), 3))},\"\r\n",
        "         f\"  Time: {'{0:.2f}'.format(round(perf_counter() - start, 2))}s\"))\r\n",
        "\r\n",
        "\r\n",
        "  # TODO: What are these warnings??\r\n",
        "  tf.get_logger().setLevel(\"ERROR\")\r\n",
        "\r\n",
        "  # Train the model (record the time as well for performance judgements)\r\n",
        "  for epoch in range(1, num_epochs + 1):\r\n",
        "      start = perf_counter()\r\n",
        "\r\n",
        "      average = []\r\n",
        "      for (input,_) in data_train:\r\n",
        "          train_loss = train_step(model, input, mean_squared_error, optimizer)\r\n",
        "          average.append(train_loss)\r\n",
        "          \r\n",
        "      train_losses.append(np.mean(average))\r\n",
        "      \r\n",
        "      test_loss = test(model, data_test, mean_squared_error)\r\n",
        "      test_losses.append(test_loss)\r\n",
        "\r\n",
        "      print((f\"Epoch #{epoch}:\" + \" \" * (len(str(num_epochs)) - len(str(epoch)))+ \"\"\r\n",
        "             f\"  Loss: (Train: {'{0:.3f}'.format(round(float(train_losses[-1]), 3))},\"\r\n",
        "             f\"  Test: {'{0:.3f}'.format(round(float(test_loss), 3))}),\"\r\n",
        "             f\"  Overfitting Indicator: {'{0:+.3f}'.format(round(float(test_losses[-1] - train_losses[-1]), 3))},\"\r\n",
        "             f\"  Time: {'{0:.2f}'.format(round(perf_counter() - start, 2))}s\"))\r\n",
        "      \r\n",
        "  return train_losses, test_losses\r\n",
        "\r\n",
        "def plot_learning(train_losses, test_losses, num_epochs):\r\n",
        "  # draw the loss plot\r\n",
        "  line1, = plt.plot(train_losses)\r\n",
        "  line2, = plt.plot(test_losses)\r\n",
        "  plt.xlabel(\"Epochs\")\r\n",
        "  plt.ylabel(\"Loss\")\r\n",
        "  plt.legend((line1, line2), (\"training\", \"test\"))\r\n",
        "  plt.show()"
      ],
      "execution_count": 7,
      "outputs": []
    },
    {
      "cell_type": "code",
      "metadata": {
        "colab": {
          "base_uri": "https://localhost:8080/",
          "height": 479
        },
        "id": "2iywjIN8KQ2R",
        "outputId": "6f618efd-f9c1-44e1-d4a6-304046b27f8f"
      },
      "source": [
        "num_epochs = 10\r\n",
        "learning_rate = 0.01\r\n",
        "conv_autoencoder = Conv_Autoencoder()\r\n",
        "\r\n",
        "train_losses, test_losses = train_model(num_epochs, learning_rate, conv_autoencoder)\r\n",
        "\r\n",
        "plot_learning(train_losses, test_losses, num_epochs)"
      ],
      "execution_count": 8,
      "outputs": [
        {
          "output_type": "stream",
          "text": [
            "Init:       Loss: (Train: 0.170,  Test: 0.170),  Overfitting Indicator: -0.001,  Time: 17.14s\n",
            "Epoch #1:   Loss: (Train: 0.014,  Test: 0.009),  Overfitting Indicator: -0.005,  Time: 9.35s\n",
            "Epoch #2:   Loss: (Train: 0.008,  Test: 0.007),  Overfitting Indicator: -0.001,  Time: 8.87s\n",
            "Epoch #3:   Loss: (Train: 0.007,  Test: 0.007),  Overfitting Indicator: -0.000,  Time: 8.89s\n",
            "Epoch #4:   Loss: (Train: 0.006,  Test: 0.007),  Overfitting Indicator: +0.000,  Time: 8.88s\n",
            "Epoch #5:   Loss: (Train: 0.006,  Test: 0.006),  Overfitting Indicator: -0.000,  Time: 8.89s\n",
            "Epoch #6:   Loss: (Train: 0.006,  Test: 0.006),  Overfitting Indicator: +0.000,  Time: 8.87s\n",
            "Epoch #7:   Loss: (Train: 0.006,  Test: 0.007),  Overfitting Indicator: +0.001,  Time: 8.86s\n",
            "Epoch #8:   Loss: (Train: 0.006,  Test: 0.006),  Overfitting Indicator: -0.000,  Time: 8.89s\n",
            "Epoch #9:   Loss: (Train: 0.006,  Test: 0.006),  Overfitting Indicator: -0.000,  Time: 8.88s\n",
            "Epoch #10:  Loss: (Train: 0.006,  Test: 0.006),  Overfitting Indicator: +0.000,  Time: 8.99s\n"
          ],
          "name": "stdout"
        },
        {
          "output_type": "display_data",
          "data": {
            "image/png": "[encoded data removed]",
            "text/plain": [
              "<Figure size 432x288 with 1 Axes>"
            ]
          },
          "metadata": {
            "tags": [],
            "needs_background": "light"
          }
        }
      ]
    },
    {
      "cell_type": "code",
      "metadata": {
        "colab": {
          "base_uri": "https://localhost:8080/",
          "height": 369
        },
        "id": "VMU-ln7Kb2Pn",
        "outputId": "144b8353-069b-4e52-b172-40090a0a4a24"
      },
      "source": [
        "# Here we plot 5 samples before and after encoding/decoding\r\n",
        "\r\n",
        "sample_images = data_test.take(1)\r\n",
        "\r\n",
        "for batch in sample_images:\r\n",
        "  samples_encoded = conv_autoencoder.encoder(batch[0])\r\n",
        "  samples_decoded = conv_autoencoder.decoder(samples_encoded)\r\n",
        "  \r\n",
        "  fig = plt.figure(1)\r\n",
        "  fig.set_figheight(6)\r\n",
        "  fig.set_figwidth(15)\r\n",
        "  for i, sample in enumerate(batch[0][:5], 1):\r\n",
        "    plt.subplot(2, 5, i)\r\n",
        "    plt.imshow(sample.numpy().squeeze(), cmap='gray')\r\n",
        "    plt.title(\"Original Image\")\r\n",
        "    plt.axis('off')\r\n",
        "\r\n",
        "    plt.subplot(2, 5, i + 5)\r\n",
        "    plt.imshow(samples_decoded[i - 1].numpy().squeeze(), cmap='gray')\r\n",
        "    plt.title(\"Decoded Image\")\r\n",
        "    plt.axis('off')\r\n",
        "\r\n",
        "plt.show()"
      ],
      "execution_count": 9,
      "outputs": [
        {
          "output_type": "display_data",
          "data": {
            "image/png": "[encoded data removed]",
            "text/plain": [
              "<Figure size 1080x432 with 10 Axes>"
            ]
          },
          "metadata": {
            "tags": [],
            "needs_background": "light"
          }
        }
      ]
    },
    {
      "cell_type": "markdown",
      "metadata": {
        "id": "mBqtMxgRV5pM"
      },
      "source": [
        "##### t-SNE"
      ]
    },
    {
      "cell_type": "code",
      "metadata": {
        "colab": {
          "base_uri": "https://localhost:8080/",
          "height": 266
        },
        "id": "vHhi_sqyV9Wm",
        "outputId": "b67bdc34-caca-4acb-f341-ab06c116bedd"
      },
      "source": [
        "from sklearn.manifold import TSNE\r\n",
        "import matplotlib.patches as mpatches\r\n",
        "\r\n",
        "# To get a nice legend which shows us which color stands for which clothing piece\r\n",
        "# we create the mappings for the legend\r\n",
        "labels = {0 : \"T-shirt/top\", 1: \"Trouser\", 2: \"Pullover\", 3: \"Dress\", 4: \"Coat\",\r\n",
        "        5: \"Sandal\", 6: \"Shirt\", 7: \"Sneaker\", 8: \"Bag\", 9: \"Ankle Boot\"}\r\n",
        "\r\n",
        "patches = [mpatches.Patch(color=str(f\"C{key}\"), label=labels[key]) for key in labels]\r\n",
        "\r\n",
        "# We unbatch the data and batch it in 1000 batches again, so that we can change the training \r\n",
        "# batch as much as we want so that it doesn't interfere here\r\n",
        "batch = data_test.unbatch().batch(1000).take(1)\r\n",
        "\r\n",
        "tsne = TSNE(n_components=2, random_state=0)\r\n",
        "\r\n",
        "for samples in batch:\r\n",
        "  # Firstly we encode all the samples\r\n",
        "  samples_encoded = conv_autoencoder.encoder(samples[0]).numpy()\r\n",
        "\r\n",
        "  # Due to tsne needing a two dimensional array we have to reduce the values of each \r\n",
        "  # encoding into one dimension (the other is necessary to hold all the samples together)\r\n",
        "  nsamples, x, y, z = samples_encoded.shape\r\n",
        "  d2_samples_encoded = samples_encoded.reshape((nsamples, x*y*z))\r\n",
        "\r\n",
        "  # Now we let tSNE do its magic and plot the results\r\n",
        "  samples_tsne = tsne.fit_transform(d2_samples_encoded)\r\n",
        "  plt.scatter(samples_tsne[:,0], samples_tsne[:,1], c = [f\"C{l}\" for l in samples[1]])\r\n",
        "  plt.legend(handles=patches, loc=\"upper left\", bbox_to_anchor = (1, 1))\r\n",
        "  plt.show()"
      ],
      "execution_count": 10,
      "outputs": [
        {
          "output_type": "display_data",
          "data": {
            "image/png": "[encoded data removed]",
            "text/plain": [
              "<Figure size 432x288 with 1 Axes>"
            ]
          },
          "metadata": {
            "tags": [],
            "needs_background": "light"
          }
        }
      ]
    },
    {
      "cell_type": "code",
      "metadata": {
        "id": "T0rLPOZ3eQ9A"
      },
      "source": [
        ""
      ],
      "execution_count": 10,
      "outputs": []
    }
  ]
}