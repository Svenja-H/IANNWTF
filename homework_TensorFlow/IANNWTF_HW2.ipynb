{
 "cells": [
  {
   "cell_type": "markdown",
   "metadata": {
    "id": "Ol7aKN6_WJ0W"
   },
   "source": [
    "# Implementing ANNs with Tensorflow\n",
    "## Homework 2\n",
    "\n",
    "\n"
   ]
  },
  {
   "cell_type": "markdown",
   "metadata": {
    "id": "mLVGrMoEWdC-"
   },
   "source": [
    "### 1 Preparation\n",
    "Implement a function **sigmoid(x)** and **sigmoidprime(x)**"
   ]
  },
  {
   "cell_type": "code",
   "execution_count": 1,
   "metadata": {
    "id": "4EJHiuKJWnwf"
   },
   "outputs": [],
   "source": [
    "import math\n",
    "\n",
    "def sigmoid(x):\n",
    "  \"\"\" Calculate the sigmoid of x\n",
    "\n",
    "  Args:\n",
    "    x (float): The value for which the sigmoid has to be calculated\n",
    "\n",
    "  Returns:\n",
    "    float: The sigmoid value of x\n",
    "  \"\"\"\n",
    "  return 1 / (1 + math.exp(-x))\n",
    "\n",
    "def sigmoidprime(x_act):\n",
    "  \"\"\" Calculate the sigmoid derivative of x\n",
    "\n",
    "  Args:\n",
    "    x_act (float):  The activation of x (has to be calculated using the\n",
    "                    sigmoid function!)\n",
    "  \n",
    "  Returns:\n",
    "    float: The value of the sigmoid derivative of x\n",
    "  \"\"\"\n",
    "  return x_act * (1 - x_act)"
   ]
  },
  {
   "cell_type": "markdown",
   "metadata": {
    "id": "7r-qLPOGX4FJ"
   },
   "source": [
    "### 2 Data Set\n",
    "Create an array for each logical gate (and, or, nand, nor, xor). <br>\n",
    "Each array should contain all possible input for two variables and their expected output (target)."
   ]
  },
  {
   "cell_type": "code",
   "execution_count": 2,
   "metadata": {
    "id": "pBkFFgYlYkzt"
   },
   "outputs": [],
   "source": [
    "import numpy as np\n",
    "\n",
    "input = list(zip([1,1,0,0], [1,0,1,0]))\n",
    "\n",
    "label_and = [[x[0] and x[1]] for x in input]\n",
    "label_or = [[x[0] or x[1]] for x in input]\n",
    "label_nand = [[int(not (x[0] and x[1]))] for x in input]\n",
    "label_nor = [[int(not (x[0] or x[1]))] for x in input]\n",
    "label_xor = [[int(x[0] != x[1])] for x in input]"
   ]
  },
  {
   "cell_type": "markdown",
   "metadata": {
    "id": "wudb5Jh6ck0H"
   },
   "source": [
    "### 3 Perceptron\n",
    "Create a Perceptron class. <br>\n",
    "It should have the classes **forward_step(self, input)** and **update(self, delta)**"
   ]
  },
  {
   "cell_type": "code",
   "execution_count": 3,
   "metadata": {
    "id": "rAhPSB9odOXl"
   },
   "outputs": [],
   "source": [
    "class Perceptron:\n",
    "  def __init__(self, input_units):\n",
    "    \"\"\" Creates a Perceptron and its weights (randomly initialized)\n",
    "        The weights will include the weight of the bias\n",
    "\n",
    "    Args:\n",
    "        input_units (int):  The amount of perceptrons in the previous layer\n",
    "                            connected to this perceptron\n",
    "    \"\"\"\n",
    "    self.input_units = input_units\n",
    "    self.alpha = 0.01\n",
    "    self.weights = np.random.randn(self.input_units + 1)\n",
    "\n",
    "  def forward_step(self, input):\n",
    "    \"\"\" Computes the outputs of the perceptron \n",
    "\n",
    "    Args: \n",
    "      input (ndarray):  One dimensional array, that includes all outputs of\n",
    "                        the previous layer. (1 is prepended to the input later\n",
    "                        to account for the bias)\n",
    "    Returns:\n",
    "      float: The activation of this perceptron\n",
    "    \"\"\"\n",
    "    return sigmoid(np.dot(np.concatenate(([1], input)), self.weights))\n",
    "\n",
    "  def update(self, gradient):\n",
    "    \"\"\" Updates the weights of the neuron using the gradient and the learning rate\n",
    "\n",
    "    Args:\n",
    "      gradient (ndarray): The gradient of the error signal (formed as a array,\n",
    "                          because the error signal can be multi dimensional,\n",
    "                          therefore each element corresponds to one weight dimension)\n",
    "    \"\"\"\n",
    "    self.weights -= self.alpha * gradient"
   ]
  },
  {
   "cell_type": "markdown",
   "metadata": {
    "id": "U3xHoFJviK6j"
   },
   "source": [
    "### 4 Multi-Layer Perceptron\n",
    "Create a MLP class that can perform forward and backprop-steps. <br>\n",
    "Initialize it with 1 hidden layer that has 4 Perceptrons and one output neuron."
   ]
  },
  {
   "cell_type": "code",
   "execution_count": 4,
   "metadata": {
    "id": "pSg6MuiKiav0"
   },
   "outputs": [],
   "source": [
    "class MLP:\n",
    "  def __init__(self, layers, threshold):\n",
    "    \"\"\" Initializes a Multi-Layer Perceptron.\n",
    "\n",
    "    Args:\n",
    "      layers (list):  One dimensional integer list where each element \n",
    "                      corresponds to a layer and the value defines \n",
    "                      the amount of neurons in the layer\n",
    "      threshold (float):  The activation of the output layers perceptrons has to\n",
    "                          be bigger than this value to return a 1 (otherwise it will return 0)\n",
    "    \"\"\"\n",
    "    self.threshold = threshold\n",
    "\n",
    "    # The input layer will be filled with placeholder values, as it is not a perceptron\n",
    "    # but having it makes the indice notations later way more sensible\n",
    "    self.layers = [[0] * layers[0]]\n",
    "\n",
    "    # Creates the requested amount of perceptrons in each layer (except for the input layer)\n",
    "    # and sets the input units of each perceptron to the amount of perceptrons in the previous layer\n",
    "    for i, perceptrons_per_layer in enumerate(layers[1:]):\n",
    "      self.layers.append([Perceptron(layers[i]) for _ in range(perceptrons_per_layer)])\n",
    "\n",
    "  def forward_step(self, input):\n",
    "    \"\"\" Computes the whole forward step\n",
    "\n",
    "    Args:\n",
    "      input (list): The input of the MLP\n",
    "    \n",
    "    Returns:\n",
    "      list: The outputs of each layer in the MLP (stored in a ndarray containing\n",
    "            the activations of all neurons in the corresponding layer)\n",
    "    \"\"\"\n",
    "    outputs = [np.array(input)]\n",
    "    for l in self.layers[1:]:\n",
    "      outputs.append(np.array([p.forward_step(outputs[-1]) for p in l]))\n",
    "\n",
    "    return outputs\n",
    "\n",
    "  def backprop_step(self, outputs, targets):\n",
    "    \"\"\" Performs backpropagation on the whole NLP\n",
    "\n",
    "    Args:\n",
    "      outputs (list): The outputs of each layer in the MLP (stored in a ndarray \n",
    "                      containing the activations of all neurons in the corresponding layer)\n",
    "      targets (list): The expected output of the whole MLP\n",
    "    \"\"\"\n",
    "    deltas = [0] * len(self.layers)\n",
    "\n",
    "    # Loop through all layers in reversed order\n",
    "    for i, layer in reversed(list(enumerate(self.layers[1:], 1))):\n",
    "      deltas_layer = []\n",
    "\n",
    "      # Loop through all perceptrons in the layer\n",
    "      for j, perceptron in enumerate(layer):\n",
    "        # Calculate the error signal of the output layer\n",
    "        if i == len(self.layers) - 1:\n",
    "          delta = (-targets[j] + int(outputs[i][j] > self.threshold)) * sigmoidprime(outputs[i][j]) / len(layer)\n",
    "\n",
    "        # Calculate the error signal for the hidden layer(s)\n",
    "        else:\n",
    "          prev_layer = self.layers[i + 1]\n",
    "          delta = sum([deltas[i + 1][k] * prev_layer[k].weights[j + 1] for k in range(len(prev_layer))]) * sigmoidprime(outputs[i][j])\n",
    "\n",
    "        # Calculate the gradient of the error signal using delta and the activation\n",
    "        # of the previous layer (add 1 to account for the bias)\n",
    "        gradient = delta * np.concatenate(([1], [outputs[i - 1][k] for k in range(len(self.layers[i - 1]))]))\n",
    "\n",
    "        # Update the perceptron using the gradient\n",
    "        perceptron.update(gradient)\n",
    "        deltas_layer.append(delta)\n",
    "      \n",
    "      deltas[i] = np.array(deltas_layer)"
   ]
  },
  {
   "cell_type": "code",
   "execution_count": 5,
   "metadata": {
    "id": "4fGIL7GBlNpB"
   },
   "outputs": [],
   "source": [
    "# Create the MLP requested in the excercise\n",
    "logic_MLP = MLP([2, 4, 1], 0.5)"
   ]
  },
  {
   "cell_type": "markdown",
   "metadata": {
    "id": "y3uUfbUpkIYx"
   },
   "source": [
    "### 5 Training\n",
    "Create a instance of the MLP and train it for 1000 epochs"
   ]
  },
  {
   "cell_type": "code",
   "execution_count": 6,
   "metadata": {
    "id": "4x5GZK4ykCNf"
   },
   "outputs": [],
   "source": [
    "def train_MLP(layers, threshold, epochs, input, targets):\n",
    "  \"\"\" Train the MLP\n",
    "\n",
    "  Args:\n",
    "    layers (list):  One dimensional integer list where each element \n",
    "                    corresponds to a layer and the value defines \n",
    "                    the amount of neurons in the layer\n",
    "    threshold (float):  The activation of the output layers perceptrons has to\n",
    "                        be bigger than this value to return a 1 (otherwise it will return 0)\n",
    "    epochs (int): The number of epochs the MLP should be trained\n",
    "    input (list): a list of all the inputs that are fed into the MLP\n",
    "    targets (list): a list of all the correct outputs the MLP should produce\n",
    "                    (length=length(input))\n",
    "    \n",
    "  Returns:\n",
    "    int: The number of epochs\n",
    "    list: The loss of each epoch\n",
    "    list: The accuracy of each epoch\n",
    "  \"\"\"\n",
    "  logic_MLP = MLP(layers, threshold)\n",
    "\n",
    "  avg_loss = []\n",
    "  accuracy = []\n",
    "\n",
    "  for e in range(epochs):\n",
    "    results = []\n",
    "    for (i, t) in zip(input, targets):\n",
    "      # Perform the forward step with the current input\n",
    "      outputs = logic_MLP.forward_step(i)\n",
    "\n",
    "      # Add the end result of the forward step to the results (which will be used\n",
    "      # to measure accuracy and loss)\n",
    "      results.append(outputs[-1] > threshold)\n",
    "\n",
    "      # Perform the backpropagation step using the outputs of the forward step\n",
    "      # and the targets of the current input\n",
    "      logic_MLP.backprop_step(outputs, t)\n",
    "\n",
    "      # # Print the results after every 100 steps\n",
    "      # if e % 100 == 0:\n",
    "      #   print(f\"{i, t, [int(o > 0.5) for o in outputs[-1]]}\")\n",
    "    \n",
    "    # Calculate the loss and accuracy of the current epoch\n",
    "    avg_loss.append(sum([(t - y)**2 for (t, y) in zip(targets, results)]) / len(input))\n",
    "    accuracy.append(sum([t == y for (t, y) in zip(targets, results)])/len(input))\n",
    "  \n",
    "  return epochs, avg_loss, accuracy\n"
   ]
  },
  {
   "cell_type": "markdown",
   "metadata": {
    "id": "smq8WpV0bsdg"
   },
   "source": [
    "### 6 Visualization\n",
    "Create two graphs showing the avg-loss and accuracy per epoch\n"
   ]
  },
  {
   "cell_type": "code",
   "execution_count": 7,
   "metadata": {
    "id": "6v5N1ZUWb9UE"
   },
   "outputs": [],
   "source": [
    "%matplotlib inline\n",
    "import matplotlib.pyplot as plt\n",
    "\n",
    "def plot_epochs(epochs, avg_loss, accuracy, name):\n",
    "  \"\"\" Plot the loss and the accuracy of the MLP over all epochs\n",
    "\n",
    "  Args:\n",
    "    epochs (int): The number of epochs the MLP was trained for\n",
    "    avg_loss (list): The loss of each epoch (length = epochs)\n",
    "    accuracy (list): The accuracy of each epoch (length = epochs)\n",
    "    name (string): The Title of the plot\n",
    "  \"\"\"\n",
    "  # Create a plot and create the x-axis with values 0 to the number of epochs\n",
    "  plt.figure()\n",
    "  x = np.linspace(0, epochs, epochs)\n",
    "\n",
    "  plt.suptitle(f\"{name}-Gate\", fontsize=16, y=1.05)\n",
    "\n",
    "  # Create the first subplot that shows the average loss\n",
    "  plt.subplot(2, 1, 1)\n",
    "  plt.plot(x, avg_loss, color=\"red\");\n",
    "  plt.title(\"Average Loss\")\n",
    "\n",
    "  # Create the second subplot that shows the accuracy\n",
    "  plt.subplot(2, 1, 2)\n",
    "  plt.plot(x, accuracy);\n",
    "  plt.title(\"Accuracy\")\n",
    "\n",
    "  # Set the layout to tight, so that the labels and plots don't overlap\n",
    "  plt.tight_layout()\n",
    "  \n",
    "\n",
    "  plt.show()\n",
    "\n",
    "  # Print out the final accuracy and avg_loss values\n",
    "  print(f\"Final Average Loss: {float(avg_loss[-1])} \\nFinal Accuracy: {float(accuracy[-1])}\")"
   ]
  },
  {
   "cell_type": "markdown",
   "metadata": {
    "id": "Kp2spc4Fl1GC"
   },
   "source": [
    "### Running Training and Visualization together\n",
    "\n",
    "Disclaimer: Due to random initialisation there is a small chance that the MLP will not converge in 1000 epochs. <br>\n",
    "When training five MLPs after each other the chance of having one or more that don't converge gets quite high. <br><br>\n",
    "\n",
    "Therefor we implemented an loop that trains the MLP until it converges. <br>\n",
    "In case the network fails, it will inform you how often it did all together <br><br>\n",
    "You can also train the networks without \"cheating\": The Line of code is commented out, but if you uncomment it and comment out everything until the last line you can get the uncensored version of the training."
   ]
  },
  {
   "cell_type": "code",
   "execution_count": 8,
   "metadata": {
    "colab": {
     "base_uri": "https://localhost:8080/"
    },
    "id": "Cb0XIh4Vk5qX",
    "outputId": "7681d4b3-c143-4cfb-fabe-095e9ebfe0f4"
   },
   "outputs": [
    {
     "data": {
      "image/png": "[encoded data removed]",
      "text/plain": [
       "<Figure size 432x288 with 2 Axes>"
      ]
     },
     "metadata": {
      "needs_background": "light"
     },
     "output_type": "display_data"
    },
    {
     "name": "stdout",
     "output_type": "stream",
     "text": [
      "Final Average Loss: 0.0 \n",
      "Final Accuracy: 1.0\n",
      "\n",
      "Training of the AND-Gate failed 1 time\n",
      "\n",
      "\n"
     ]
    },
    {
     "data": {
      "image/png": "[encoded data removed]",
      "text/plain": [
       "<Figure size 432x288 with 2 Axes>"
      ]
     },
     "metadata": {
      "needs_background": "light"
     },
     "output_type": "display_data"
    },
    {
     "name": "stdout",
     "output_type": "stream",
     "text": [
      "Final Average Loss: 0.0 \n",
      "Final Accuracy: 1.0\n",
      "\n",
      "\n"
     ]
    },
    {
     "data": {
      "image/png": "[encoded data removed]",
      "text/plain": [
       "<Figure size 432x288 with 2 Axes>"
      ]
     },
     "metadata": {
      "needs_background": "light"
     },
     "output_type": "display_data"
    },
    {
     "name": "stdout",
     "output_type": "stream",
     "text": [
      "Final Average Loss: 0.0 \n",
      "Final Accuracy: 1.0\n",
      "\n",
      "Training of the NAND-Gate failed 1 time\n",
      "\n",
      "\n"
     ]
    },
    {
     "data": {
      "image/png": "[encoded data removed]",
      "text/plain": [
       "<Figure size 432x288 with 2 Axes>"
      ]
     },
     "metadata": {
      "needs_background": "light"
     },
     "output_type": "display_data"
    },
    {
     "name": "stdout",
     "output_type": "stream",
     "text": [
      "Final Average Loss: 0.0 \n",
      "Final Accuracy: 1.0\n",
      "\n",
      "\n"
     ]
    },
    {
     "data": {
      "image/png": "[encoded data removed]",
      "text/plain": [
       "<Figure size 432x288 with 2 Axes>"
      ]
     },
     "metadata": {
      "needs_background": "light"
     },
     "output_type": "display_data"
    },
    {
     "name": "stdout",
     "output_type": "stream",
     "text": [
      "Final Average Loss: 0.0 \n",
      "Final Accuracy: 1.0\n",
      "\n",
      "Training of the XOR-Gate failed 5 times\n",
      "\n",
      "\n"
     ]
    }
   ],
   "source": [
    "# The MLP will have 2 input perceptrons, 4 perceptrons in the hidden layer and\n",
    "# one output neuron. The threshold is 0.5. Its trained over 1000 full epochs.\n",
    "# It will learn to map all combinations of two booleans to each kind of gate.\n",
    "\n",
    "# Loop through all logic gate labels\n",
    "for name, label in [(\"AND\", label_and), (\"OR\", label_or), (\"NAND\", label_nand), (\"NOR\", label_nor), (\"XOR\", label_xor)]:\n",
    "  # Feed the output of the training function into the plotting function \n",
    "  # (the * unpacks the tuple returned by the training funtion)\n",
    "  \n",
    "  # plot_epochs(*train_MLP([2, 4, 1], 0.5, 1000, input, label), name)\n",
    "\n",
    "  # We use these lines of code instead of the one above to only print converged MLPs\n",
    "  failed = True\n",
    "  failed_count = 0\n",
    "\n",
    "  # Train the MLP until it converges (count the number of failed trials)\n",
    "  while(failed):\n",
    "    train_data = train_MLP([2, 4, 1], 0.5, 1000, input, label)\n",
    "    if (float(train_data[1][-1]) == 0.0 and float(train_data[2][-1]) == 1.0):\n",
    "      failed = False\n",
    "    else:\n",
    "      failed_count += 1\n",
    "\n",
    "  # Plot the MLP\n",
    "  plot_epochs(*train_data, name)\n",
    "\n",
    "  # Be transparent and show how often training failed (if it did)\n",
    "  if(failed_count > 0):\n",
    "    print(f\"\\nTraining of the {name}-Gate failed {failed_count} time\" + (\"\" if failed_count == 1 else \"s\"))\n",
    "  \n",
    "  print(\"\\n\")"
   ]
  },
  {
   "cell_type": "code",
   "execution_count": null,
   "metadata": {},
   "outputs": [],
   "source": []
  }
 ],
 "metadata": {
  "colab": {
   "collapsed_sections": [],
   "name": "IANNWTF - HW2.ipynb",
   "provenance": []
  },
  "kernelspec": {
   "display_name": "Python 3",
   "language": "python",
   "name": "python3"
  },
  "language_info": {
   "codemirror_mode": {
    "name": "ipython",
    "version": 3
   },
   "file_extension": ".py",
   "mimetype": "text/x-python",
   "name": "python",
   "nbconvert_exporter": "python",
   "pygments_lexer": "ipython3",
   "version": "3.7.9"
  }
 },
 "nbformat": 4,
 "nbformat_minor": 1
}
