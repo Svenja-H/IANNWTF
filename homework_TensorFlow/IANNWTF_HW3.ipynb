{
  "nbformat": 4,
  "nbformat_minor": 0,
  "metadata": {
    "colab": {
      "name": "HA3_outs.ipynb",
      "provenance": [],
      "collapsed_sections": [
        "vBIvBJ8xj4au"
      ]
    },
    "kernelspec": {
      "name": "python3",
      "display_name": "Python 3"
    },
    "accelerator": "GPU"
  },
  "cells": [
    {
      "cell_type": "code",
      "metadata": {
        "id": "FHx4I-EuYgDk"
      },
      "source": [
        ""
      ],
      "execution_count": null,
      "outputs": []
    },
    {
      "cell_type": "code",
      "metadata": {
        "id": "cCerWTyALFDh"
      },
      "source": [
        "import numpy as np\n",
        "%tensorflow_version 2.x\n",
        "import tensorflow as tf\n",
        "import tensorflow_datasets as tfds\n",
        "import matplotlib.pyplot as plt"
      ],
      "execution_count": null,
      "outputs": []
    },
    {
      "cell_type": "markdown",
      "metadata": {
        "id": "76l_VonMKynH"
      },
      "source": [
        "### 1. Data set\n",
        "Load the dataset and select 100.000 examples for training and 1.000 for testing. <br>\n",
        "Create a function that converts the genomic data into a one-hot encoded vector."
      ]
    },
    {
      "cell_type": "code",
      "metadata": {
        "id": "wZ9gBbenkciY"
      },
      "source": [
        "batch_size = 20\n",
        "\n",
        "# Load the data\n",
        "data_train, data_test = tfds.load(\"genomics_ood\", as_supervised=True, split=[\"train[:100000]\", \"test[:1000]\"])\n",
        "\n",
        "def onehotify(genome, label):\n",
        "  \"\"\" Turns the genome tensor and the label tensor into a onehot notation.\n",
        "\n",
        "  Args:\n",
        "    genome (tensor): String tensor containing the genome sequence\n",
        "    label (tensor): int tensor containing the label for the bacteria\n",
        "\n",
        "  Returns:\n",
        "    tensor: The genome tensor in a onehot notation, with a dtype of int (length=4)\n",
        "    tensor: The label tensor in a onehot notation, with a dtype of int (length=10)\n",
        "  \"\"\"\n",
        "  # Replace the base-letters with unique numbers in the whole tensor\n",
        "  vocab = {\"A\": \"0\", \"C\": \"1\", \"G\": \"2\", \"T\": \"3\"}\n",
        "  for key in vocab.keys():\n",
        "    genome = tf.strings.regex_replace(genome, key, vocab[key])\n",
        "\n",
        "  # Turn the genome numbers into onehot notations\n",
        "  genome = tf.strings.bytes_split(genome)\n",
        "  genome = tf.cast(tf.strings.to_number(genome), tf.uint8)\n",
        "  genome = tf.one_hot(genome, 4)\n",
        "  genome = tf.reshape(genome, (-1,))\n",
        "\n",
        "  # Turn the label numbers into onehot notations\n",
        "  label = tf.one_hot(label, 10)  \n",
        "  label = tf.reshape(label, (-1,))\n",
        "\n",
        "\n",
        "  return (genome, label)\n",
        "\n",
        "# Apply the onehotify function to the training data, let it cache its results after\n",
        "# use and prefetch data from it to reduce runtime. Set the batchsize to 128 and shuffle \n",
        "# the data\n",
        "data_train = data_train.map(onehotify, num_parallel_calls=tf.data.experimental.AUTOTUNE)\n",
        "data_train = data_train.cache()\n",
        "data_train = data_train.prefetch(tf.data.experimental.AUTOTUNE)\n",
        "data_train = data_train.batch(batch_size)\n",
        "data_train = data_train.shuffle(buffer_size=batch_size)\n",
        "\n",
        "# Do the same for the test data\n",
        "data_test = data_test.map(onehotify, num_parallel_calls=tf.data.experimental.AUTOTUNE)\n",
        "data_test = data_test.cache()\n",
        "data_test = data_test.prefetch(tf.data.experimental.AUTOTUNE)\n",
        "data_test = data_test.batch(batch_size)\n",
        "data_test = data_test.shuffle(buffer_size=batch_size)\n",
        "\n"
      ],
      "execution_count": null,
      "outputs": []
    },
    {
      "cell_type": "markdown",
      "metadata": {
        "id": "v5QQ2DczDtDL"
      },
      "source": [
        "### 2. Model\n",
        "Create a model for the genomic ANN with two hidden layers (256 units each) and 10 output units."
      ]
    },
    {
      "cell_type": "code",
      "metadata": {
        "id": "Sm_mKjxEkOPo"
      },
      "source": [
        "# Clear previous keras data\n",
        "tf.keras.backend.clear_session()\n",
        "\n",
        "# Init hyperparameters\n",
        "epochs = 10\n",
        "learning_rate = 0.1\n",
        "\n",
        "# Create the keras model. (A sequential model is effectively a MLP)\n",
        "# The first layer will be a Reshape which is necessary because, keras otherwise\n",
        "# thinks that the data doesnt have a complete shape yet (which is kind of true\n",
        "# because it is not fully computed yet)\n",
        "# Following are two dense layers with 256 units each using the sigmoid as activation.\n",
        "# Lastly there is another dense layer with 10 units and a softmax for output.\n",
        "model = tf.keras.models.Sequential([tf.keras.layers.Reshape((1000,)), \n",
        "                                    tf.keras.layers.Dense(256, activation=tf.keras.activations.sigmoid),\n",
        "                                    tf.keras.layers.Dense(256, activation=tf.keras.activations.sigmoid),\n",
        "                                    tf.keras.layers.Dense(10, activation=tf.keras.activations.softmax)])"
      ],
      "execution_count": null,
      "outputs": []
    },
    {
      "cell_type": "markdown",
      "metadata": {
        "id": "MSwZfgMTFkJb"
      },
      "source": [
        "### 3. Training\n",
        "Train the network for 10 epochs using a learning rate of 0.1. <br>\n",
        "The loss function will be categorical cross entropy. <br>\n",
        "It will be optimized using Standard gradient descent."
      ]
    },
    {
      "cell_type": "code",
      "metadata": {
        "id": "1rvDN-uWZbfS",
        "colab": {
          "base_uri": "https://localhost:8080/"
        },
        "outputId": "6d40fca5-b38e-4a20-fea4-8075c00b02d0"
      },
      "source": [
        "# Init the optimizer (with nesterov-momentum, which means that a certain percentage\n",
        "# of the last gradient will be added to each gradient.)\n",
        "optimizer = tf.keras.optimizers.SGD(lr=learning_rate, momentum=0.7, nesterov=False)\n",
        "\n",
        "# Set the loss function and optimizer for the model and add accuracy to the metrics\n",
        "model.compile(loss=\"categorical_crossentropy\", optimizer = optimizer, metrics=[\"accuracy\"])\n",
        "\n",
        "# Get the initial loss and accuracies for both data sets\n",
        "init_train_metrics = model.evaluate(data_train, verbose=0)\n",
        "init_test_metrics = model.evaluate(data_test, verbose=0)\n",
        "\n",
        "# Train the model\n",
        "history = model.fit(data_train, validation_data = data_test, epochs=epochs, shuffle=True, batch_size= 64)\n",
        "\n"
      ],
      "execution_count": null,
      "outputs": [
        {
          "output_type": "stream",
          "text": [
            "Epoch 1/10\n",
            "5000/5000 [==============================] - 13s 3ms/step - loss: 1.5352 - accuracy: 0.3380 - val_loss: 1.5099 - val_accuracy: 0.3300\n",
            "Epoch 2/10\n",
            "5000/5000 [==============================] - 12s 2ms/step - loss: 1.4843 - accuracy: 0.3578 - val_loss: 1.4866 - val_accuracy: 0.3560\n",
            "Epoch 3/10\n",
            "5000/5000 [==============================] - 13s 3ms/step - loss: 1.4738 - accuracy: 0.3627 - val_loss: 1.4736 - val_accuracy: 0.3600\n",
            "Epoch 4/10\n",
            "5000/5000 [==============================] - 14s 3ms/step - loss: 1.4620 - accuracy: 0.3682 - val_loss: 1.4394 - val_accuracy: 0.3790\n",
            "Epoch 5/10\n",
            "5000/5000 [==============================] - 13s 3ms/step - loss: 1.4377 - accuracy: 0.3818 - val_loss: 1.4066 - val_accuracy: 0.3930\n",
            "Epoch 6/10\n",
            "5000/5000 [==============================] - 13s 3ms/step - loss: 1.4056 - accuracy: 0.3981 - val_loss: 1.3919 - val_accuracy: 0.3970\n",
            "Epoch 7/10\n",
            "5000/5000 [==============================] - 13s 3ms/step - loss: 1.3742 - accuracy: 0.4131 - val_loss: 1.4086 - val_accuracy: 0.4040\n",
            "Epoch 8/10\n",
            "5000/5000 [==============================] - 13s 3ms/step - loss: 1.3415 - accuracy: 0.4327 - val_loss: 1.4104 - val_accuracy: 0.4180\n",
            "Epoch 9/10\n",
            "5000/5000 [==============================] - 13s 3ms/step - loss: 1.3083 - accuracy: 0.4490 - val_loss: 1.4504 - val_accuracy: 0.4170\n",
            "Epoch 10/10\n",
            "5000/5000 [==============================] - 13s 3ms/step - loss: 1.2697 - accuracy: 0.4704 - val_loss: 1.4502 - val_accuracy: 0.4270\n"
          ],
          "name": "stdout"
        }
      ]
    },
    {
      "cell_type": "code",
      "metadata": {
        "colab": {
          "base_uri": "https://localhost:8080/"
        },
        "id": "tzaQpqN7ZPAg",
        "outputId": "f40496f3-ad11-4fe5-f505-b0ec0b341f93"
      },
      "source": [
        "init_train_metrics"
      ],
      "execution_count": null,
      "outputs": [
        {
          "output_type": "execute_result",
          "data": {
            "text/plain": [
              "[2.5115127563476562, 0.10424000024795532]"
            ]
          },
          "metadata": {
            "tags": []
          },
          "execution_count": 7
        }
      ]
    },
    {
      "cell_type": "markdown",
      "metadata": {
        "id": "P38IdUkxVyXm"
      },
      "source": [
        "### 4. Visualization\n",
        "\n",
        "Visualise accuracy and loss for training and test data."
      ]
    },
    {
      "cell_type": "code",
      "metadata": {
        "id": "MyJvxzLPeYr6",
        "colab": {
          "base_uri": "https://localhost:8080/",
          "height": 541
        },
        "outputId": "ed3e260a-40eb-41c5-b563-ba42aa4f91cb"
      },
      "source": [
        "# Combine the losses and averages while training with the ones before training\n",
        "train_loss = np.concatenate(([init_train_metrics[0]], history.history[\"loss\"]))\n",
        "train_acc = np.concatenate(([init_train_metrics[1]], history.history[\"accuracy\"]))\n",
        "\n",
        "test_loss = np.concatenate(([init_test_metrics[0]], history.history[\"val_loss\"]))\n",
        "test_acc = np.concatenate(([init_test_metrics[1]], history.history[\"val_accuracy\"]))\n",
        "\n",
        "# draw the loss plot\n",
        "plt.figure()\n",
        "line1, = plt.plot(train_loss)\n",
        "line2, = plt.plot(test_loss)\n",
        "plt.xlabel(\"Epochs\")\n",
        "plt.ylabel(\"Loss\")\n",
        "plt.legend((line1, line2), (\"training\", \"test\"))\n",
        "plt.show()\n",
        "\n",
        "# draw the accuracy plot\n",
        "plt.figure()\n",
        "line1, = plt.plot(train_acc)\n",
        "line2, = plt.plot(test_acc)\n",
        "line3, = plt.plot([0.35] * (epochs + 1))\n",
        "plt.xlabel(\"Epochs\")\n",
        "plt.ylabel(\"Accuracy\")\n",
        "plt.legend((line1, line2), (\"training\", \"test\"))\n",
        "plt.show()"
      ],
      "execution_count": null,
      "outputs": [
        {
          "output_type": "display_data",
          "data": {
            "image/png": "[encoded data removed]",
            "text/plain": [
              "<Figure size 432x288 with 1 Axes>"
            ]
          },
          "metadata": {
            "tags": [],
            "needs_background": "light"
          }
        },
        {
          "output_type": "display_data",
          "data": {
            "image/png": "[encoded data removed]",
            "text/plain": [
              "<Figure size 432x288 with 1 Axes>"
            ]
          },
          "metadata": {
            "tags": [],
            "needs_background": "light"
          }
        }
      ]
    }
  ]
}